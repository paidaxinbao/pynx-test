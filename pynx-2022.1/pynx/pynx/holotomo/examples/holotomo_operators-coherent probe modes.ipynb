{
 "cells": [
  {
   "cell_type": "markdown",
   "metadata": {},
   "source": [
    "Another experimental notebook for holo-tomography, mostly meant for development purposes.\n",
    "\n",
    "This one uses coherent probe modes (linear combination of probe modes different for each projection)"
   ]
  },
  {
   "cell_type": "markdown",
   "metadata": {},
   "source": [
    "TODO:\n",
    "1. Test fixing the probe mode coefficients - e.g. a linear ramp going from 0 to 1 and 1 to 0 for two modes.\n",
    "  1. The probe modes would not be normalised.\n",
    "  1. A scale factor could be refined per frame so that instead of having fixed probe mode coefficients, only the ratio would be fixed\n",
    "  1. This would need a new kernel, not reducing the probe mode coefficients but the norm of the computed probe\n",
    "1. Test on the holotomo-1dist data\n",
    "1. Add an empty beam at the beginning and the end of the projections ?\n",
    "1. Try again the free mode probe coefficients:\n",
    "  1. with multiple distances (gives more redundancy)\n",
    "  1. by using the new object for the probe update, rather than the old object ?"
   ]
  },
  {
   "cell_type": "code",
   "execution_count": null,
   "metadata": {},
   "outputs": [],
   "source": [
    "# -*- coding: utf-8 -*-\n",
    "\n",
    "# PyNX - Python tools for Nano-structures Crystallography\n",
    "#   (c) 2019-present : ESRF-European Synchrotron Radiation Facility\n",
    "#       authors:\n",
    "#         Vincent Favre-Nicolin, favre@esrf.fr\n",
    "%matplotlib notebook\n",
    "import os\n",
    "import numpy as np\n",
    "import matplotlib.pyplot as plt\n",
    "from matplotlib.colors import LogNorm\n",
    "from scipy.fftpack import fftshift\n",
    "import imageio\n",
    "from skimage.data import shepp_logan_phantom, coins, immunohistochemistry, microaneurysms, retina\n",
    "import xraydb\n",
    "from pynx.holotomo import *\n",
    "from pynx.holotomo.utils import simulate_probe\n",
    "from pynx.wavefront import Wavefront\n",
    "from pynx.wavefront import operator as wop\n",
    "from pynx.test.speed import SpeedTest\n",
    "\n",
    "from IPython.core.display import display, HTML\n",
    "display(HTML(\"<style>.container { width:100% !important; }</style>\"))"
   ]
  },
  {
   "cell_type": "code",
   "execution_count": null,
   "metadata": {},
   "outputs": [],
   "source": [
    "# Basic parameters\n",
    "nrj_ev = 30000\n",
    "wavelength=12398.4e-10/nrj_ev\n",
    "material , density = xraydb.get_material('Fe')\n",
    "delta,beta, atten = xraydb.xray_delta_beta(material, density, nrj_ev)\n",
    "print(\"%15s: delta=%6e  beta=%6e  delta/beta=%6.1f\"%(material, delta, beta, delta/beta))\n",
    "thickness = 1e-6\n",
    "pixel_size = 50e-9\n",
    "ny, nx = 512, 512\n",
    "nb_proj = 60\n",
    "stack_size = 3\n",
    "nz = 3\n",
    "nb_probe = 1 # two probe modes\n",
    "dz = 0.02  # Base distance\n",
    "vz = dz * 1.04 **(np.arange(nz)*3)\n",
    "print(vz)"
   ]
  },
  {
   "cell_type": "code",
   "execution_count": null,
   "metadata": {},
   "outputs": [],
   "source": [
    "# Distances formula from Zabler 2005 article \n",
    "ps = 0.1 #pixel_size*1e6\n",
    "print(ps)\n",
    "print(38.4* ps**2 + 0.4 *ps-0.12)\n",
    "print(((38.4 * ps**2 + 0.4 *ps-0.12)*np.array([1,2,5,6])-9.84 * ps + 4.67)*1e-3/(wavelength*1e10))"
   ]
  },
  {
   "cell_type": "code",
   "execution_count": null,
   "metadata": {
    "scrolled": false
   },
   "outputs": [],
   "source": [
    "# Simulate probe (propagation distances)\n",
    "probe0 = simulate_probe((ny,nx), np.ones(nz * nb_probe)*0.2, nb_line_h=10, nb_line_v=10,nb_spot=20,\n",
    "                        pixel_size=pixel_size, wavelength=wavelength, amplitude=2)\n",
    "\n",
    "# We simulated the probe modes and z as a single dimension, so reshape\n",
    "probe0 = probe0.reshape((nz, nb_probe, ny, nx))\n",
    "\n",
    "if nb_probe > 1:\n",
    "    # Change linearly the coefficients to see if we can recover this\n",
    "    coherent_probe_modes = np.zeros((nb_proj, nz, nb_probe))\n",
    "    for iz in range(nz):\n",
    "        coherent_probe_modes[:,iz, 0] = np.linspace(1, 0, nb_proj)\n",
    "        coherent_probe_modes[:,iz, 1] = np.linspace(0, 1, nb_proj)\n",
    "    # Make the secondary probe mode a simple shift of the first so Paganin works\n",
    "    probe0[:,1] = np.roll(probe0[:,0],(2,1), axis=(-1,-2))\n",
    "else:\n",
    "    coherent_probe_modes = True\n",
    "\n",
    "plt.figure(figsize=(18,4))\n",
    "for i in range(nz):\n",
    "    for j in range(nb_probe):\n",
    "        plt.subplot(nb_probe,nz*2,2*i+1 + 2*nz * j)\n",
    "        plt.imshow(np.angle(probe0[i,j]),cmap='gray')\n",
    "        plt.colorbar()\n",
    "        plt.subplot(nb_probe,nz*2,2*i+2 + 2*nz * j)\n",
    "        plt.imshow(np.abs(probe0[i,j]),cmap='gray')\n",
    "        plt.colorbar()\n",
    "plt.tight_layout()\n"
   ]
  },
  {
   "cell_type": "code",
   "execution_count": null,
   "metadata": {},
   "outputs": [],
   "source": [
    "# Create object from skimage examples\n",
    "k = 2*np.pi/wavelength\n",
    "mu = 2 * k * beta\n",
    "print(mu*thickness, k*delta*thickness)\n",
    "obj0 = np.empty((nb_proj, 512, 512), dtype=np.complex64)\n",
    "\n",
    "img_src = [shepp_logan_phantom, immunohistochemistry, retina, coins]\n",
    "\n",
    "obj0 = np.zeros((nb_proj, ny, nx), dtype=np.complex64)\n",
    "i, ct = 0, 0\n",
    "while ct < nb_proj:\n",
    "    img = img_src[i]()\n",
    "    if img.ndim == 2:\n",
    "        img = img[..., np.newaxis]\n",
    "    for j in range(img.shape[-1]):\n",
    "        d = img[:,:,j]\n",
    "        if d.shape[0] > ny:\n",
    "            d = d[:ny]\n",
    "        if d.shape[1] > nx:\n",
    "            d = d[:, :nx]\n",
    "        ny1, nx1 = d.shape\n",
    "        obj0[ct,:ny1,:nx1] = d / d.max()\n",
    "        \n",
    "        if ny1 < ny:\n",
    "            obj0[ct] = np.roll(obj0[ct],(ny-ny1)//2, axis=0)\n",
    "        if nx1 < nx:\n",
    "            obj0[ct] = np.roll(obj0[ct],(nx-nx1)//2, axis=1)\n",
    "        \n",
    "        # add random shift for more independent images\n",
    "        if ct >= len(img_src):\n",
    "            obj0[ct] = np.roll(obj0[ct], np.random.randint(0,nx, 2), axis=(-1,-2))\n",
    "        \n",
    "        ct += 1\n",
    "        if ct == nb_proj:\n",
    "            break\n",
    "    i = (i+1) % len(img_src)\n",
    "\n",
    "for i in range(0, nb_proj-1):\n",
    "    obj0[i] = np.exp(-k * (-1j * delta + beta) * thickness * obj0[i])\n",
    "\n",
    "# last projection is without an object (empty beam)\n",
    "obj0[-1] = 1\n",
    "\n",
    "nb_mode = 1\n",
    "obj0 = np.reshape(obj0, (nb_proj, nb_mode, ny, nx))\n",
    "\n",
    "# Last frames are without sample\n",
    "sample_flag = np.ones(nb_proj, dtype=np.bool)\n",
    "sample_flag[-1] = False"
   ]
  },
  {
   "cell_type": "code",
   "execution_count": null,
   "metadata": {},
   "outputs": [],
   "source": [
    "iobs = np.ones((nb_proj, nz, ny, nx), dtype=np.float32)\n",
    "\n",
    "# Display last propagated wavefront ?\n",
    "# w = wop.ImshowAbs() * w\n",
    "\n",
    "# test displacements\n",
    "dx = None  #np.random.uniform(2,5,(nb_proj, nz))\n",
    "#dx[:,0] = 0\n",
    "dy = None  #np.random.uniform(2,5,(nb_proj, nz))\n",
    "#dy[:,0] = 0\n",
    "\n",
    "# Create HoloTomoData\n",
    "data = HoloTomoData(iobs, pixel_size_detector=pixel_size, wavelength=wavelength, detector_distance=vz,\n",
    "               stack_size=stack_size, dx=dx, dy=dy, sample_flag=sample_flag)\n"
   ]
  },
  {
   "cell_type": "code",
   "execution_count": null,
   "metadata": {
    "scrolled": false
   },
   "outputs": [],
   "source": [
    "# Create PCI object\n",
    "p = HoloTomo(data=data, obj=obj0.copy(), probe=probe0, coherent_probe_modes=False)\n",
    "plt.figure(figsize=(9.5,3))\n",
    "p = ShowObj(fig_num=-1, istack=0, type='phase') * p\n",
    "# p = LoopStack(ShowObj(i=None), out=False) *p  # Look at objects\n",
    "\n",
    "if True:\n",
    "    plt.figure(figsize=(9.5,5))\n",
    "    p = ShowPsi(fig_num=-1, iproj=0, iz=None, type='amplitude') * PropagateNearField1() * ObjProbe2Psi1() * SwapStack(0) * p\n"
   ]
  },
  {
   "cell_type": "code",
   "execution_count": null,
   "metadata": {
    "scrolled": false
   },
   "outputs": [],
   "source": [
    "# Copy calculated intensity to obs\n",
    "p = Calc2Obs(poisson_noise=True, nb_photon=1e5) * p"
   ]
  },
  {
   "cell_type": "code",
   "execution_count": null,
   "metadata": {
    "scrolled": false
   },
   "outputs": [],
   "source": [
    "#p = LoopStack(ObjProbe2Psi1(), copy_psi=True) * p\n",
    "#for s in p.data.stack_v:\n",
    "#    print(s.istack,s.psi.sum())\n",
    "#print(p._cu_probe_mode_coeff)\n",
    "#print(p._cu_probe.get().mean(axis=(-1,-2)), p._probe.mean(axis=(-1,-2)), p.nb_probe)\n",
    "#p.probe_mode_coeff.dtype"
   ]
  },
  {
   "cell_type": "code",
   "execution_count": null,
   "metadata": {
    "scrolled": false
   },
   "outputs": [],
   "source": [
    "if True:\n",
    "    # Paganin reconstruction\n",
    "    p = BackPropagatePaganin(delta_beta=delta/beta, alpha=0.0) * p\n",
    "    #p = BackPropagateCTF(alpha=0.2,alpha_low=1e-5, delta_beta=delta/beta) * p\n",
    "    #plt.figure(figsize=(16,3))\n",
    "    #p = ShowObj(fig_num=-1, istack=0, type='phase') * p\n",
    "    plt.figure(figsize=(9,2))\n",
    "    p = ShowObj(fig_num=-1, istack=0, type='phase') * p\n",
    "    #plt.figure(figsize=(9,2))\n",
    "    #p = ShowObj(fig_num=-1, istack=0, type='amplitude') * p\n",
    "    \n",
    "    plt.figure(figsize=(9,2))\n",
    "    plt.subplot(121)\n",
    "    plt.imshow(abs(p.get_probe()[0,0]))\n",
    "    #plt.imshow(abs(probe0[0,0]))\n",
    "    if p.nb_probe > 1:\n",
    "        plt.subplot(122)\n",
    "        plt.imshow(abs(p.get_probe()[0,1]))\n",
    "        #plt.imshow(abs(probe0[0,1]))\n",
    "\n",
    "    #plt.figure(figsize=(9,2))\n",
    "    #p = ShowObj(fig_num=-1, istack=0, type='phase') * p\n",
    "#for s in p.data.stack_v:\n",
    "#    print(abs(s.obj).mean(axis=(1,2,3)), s.iobs.sum(axis=(1,2,3)))\n",
    "#print(abs(p.get_probe()).mean(axis=(1,2,3)))\n"
   ]
  },
  {
   "cell_type": "code",
   "execution_count": null,
   "metadata": {
    "scrolled": false
   },
   "outputs": [],
   "source": [
    "p = AP(delta_beta=delta/beta, reg_obj_smooth=0, update_object=True, update_probe=True, calc_llk=20,weight_empty=1, probe_inertia=0)**100 * p\n",
    "#p = AP(delta_beta=None, reg_obj_smooth=0, update_object=True, update_probe=True)**50 * p\n",
    "plt.figure(figsize=(12,3))\n",
    "p = ShowObj(fig_num=-1, istack=0, type='phase') * p\n",
    "#print(p._cu_probe_mode_coeff)"
   ]
  },
  {
   "cell_type": "code",
   "execution_count": null,
   "metadata": {
    "scrolled": false
   },
   "outputs": [],
   "source": [
    "if False:\n",
    "    #plt.figure(figsize=(15,4))\n",
    "    p = ShowPsi(iproj=None,iz=None, fig_num=-1, type='phase') * PropagateApplyAmplitude1() * ObjProbe2Psi1()* SwapStack(0) * p\n",
    "\n",
    "    #p = Psi2ObjProbeCoherent1(delta_beta=delta/beta) * PropagateApplyAmplitude1() * ObjProbe2Psi1() * p\n",
    "    #p = OrthoProbe() * (LoopStack(Psi2ObjProbeCoherent1(delta_beta=delta/beta) * PropagateApplyAmplitude1() * ObjProbe2Psi1()))**10 * p\n",
    "    #p = OrthoProbe() * (LoopStack(Psi2ObjProbeCoherent1(delta_beta=delta/beta) * PropagateApplyAmplitude1() * ObjProbe2Psi1()))**10 * p\n",
    "    #p = (OrthoProbe() * Psi2ProbeMergeCoh() * LoopStack(Psi2ObjProbeCoherent1() * PropagateApplyAmplitude1() * ObjProbe2Psi1()))**1 * p\n",
    "\n",
    "    p = Psi2ProbeMerge() * LoopStack(Psi2ObjProbeCoherent1() * PropagateApplyAmplitude1() * ObjProbe2Psi1()) * p\n",
    "    #p = Psi2ObjProbeCoherent1() * p\n",
    "    plt.figure(figsize=(9,2))\n",
    "    p = ShowObj(fig_num=-1, istack=0, type='phase') * p\n",
    "if True:\n",
    "    plt.figure(figsize=(9,2))\n",
    "    plt.subplot(121)\n",
    "    pr = p._cu_probe_new.get() # p.get_probe()\n",
    "    plt.imshow(abs(pr[0,0]))\n",
    "    if nb_probe > 1:\n",
    "        plt.subplot(122)\n",
    "        plt.imshow(abs(pr[0,1]))\n",
    "print(p._cu_stack.obj.shape)"
   ]
  },
  {
   "cell_type": "code",
   "execution_count": null,
   "metadata": {},
   "outputs": [],
   "source": [
    "if True:\n",
    "    plt.figure(figsize=(9.5,5))\n",
    "    p = ShowPsi(fig_num=-1, iproj=None, iz=None, type='amplitude') * PropagateApplyAmplitude1() * ObjProbe2Psi1() * SwapStack(0) * p\n"
   ]
  },
  {
   "cell_type": "code",
   "execution_count": null,
   "metadata": {},
   "outputs": [],
   "source": [
    "#p._cu_probe_mode_coeff = p._cu_probe_mode_coeff_new\n",
    "#p = ProbeNorm(option='probe') * p"
   ]
  },
  {
   "cell_type": "code",
   "execution_count": null,
   "metadata": {},
   "outputs": [],
   "source": [
    "((abs(p._cu_probe.get())**2).sum(axis=(-1,-2)))"
   ]
  },
  {
   "cell_type": "code",
   "execution_count": null,
   "metadata": {},
   "outputs": [],
   "source": [
    "p = AP(delta_beta=delta/beta, reg_obj_smooth=0.5, update_object=True, update_probe=True, calc_llk=20,weight_empty=1, probe_inertia=0)**100 * p\n",
    "p = AP(delta_beta=delta/beta, reg_obj_smooth=0, update_object=True, update_probe=True, calc_llk=20,weight_empty=1, probe_inertia=0)**200 * p\n",
    "#p = AP(delta_beta=None, reg_obj_smooth=0, update_object=True, update_probe=True)**50 * p\n",
    "plt.figure(figsize=(12,3))\n",
    "p = ShowObj(fig_num=-1, istack=0, type='phase') * p\n",
    "#print(p._cu_probe_mode_coeff)"
   ]
  },
  {
   "cell_type": "code",
   "execution_count": null,
   "metadata": {},
   "outputs": [],
   "source": []
  }
 ],
 "metadata": {
  "kernelspec": {
   "display_name": "Python 3 (ipykernel)",
   "language": "python",
   "name": "python3"
  },
  "language_info": {
   "codemirror_mode": {
    "name": "ipython",
    "version": 3
   },
   "file_extension": ".py",
   "mimetype": "text/x-python",
   "name": "python",
   "nbconvert_exporter": "python",
   "pygments_lexer": "ipython3",
   "version": "3.8.6"
  }
 },
 "nbformat": 4,
 "nbformat_minor": 4
}
