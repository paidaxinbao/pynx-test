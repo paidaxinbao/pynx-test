{
 "cells": [
  {
   "cell_type": "markdown",
   "metadata": {},
   "source": [
    "## Notebook example of ptychograpic reconstruction on simulated data\n",
    "\n",
    "This is a basic example, showing how to:\n",
    "* simulate data\n",
    "* compute the object shape from the data\n",
    "* use the Ptycho operators for reconstruction\n",
    "* including an incoherent background"
   ]
  },
  {
   "cell_type": "code",
   "execution_count": null,
   "metadata": {},
   "outputs": [],
   "source": [
    "# Optional: select language and/or GPU name or rank through environment variable\n",
    "import os\n",
    "os.environ['PYNX_PU'] = 'opencl'\n",
    "\n",
    "%matplotlib notebook\n",
    "import matplotlib.pyplot as plt\n",
    "from matplotlib.colors import LogNorm\n",
    "from pynx.ptycho import simulation, shape\n",
    "\n",
    "# Import Ptycho, PtychoData and operators (automatically selecting OpenCL or CUDA)\n",
    "from pynx.ptycho import *"
   ]
  },
  {
   "cell_type": "markdown",
   "metadata": {},
   "source": [
    "## Simulate the Ptychography dataset"
   ]
  },
  {
   "cell_type": "code",
   "execution_count": null,
   "metadata": {
    "scrolled": false
   },
   "outputs": [],
   "source": [
    "# 2D detector size (square)\n",
    "nxy = 256\n",
    "# Pixel size in meters\n",
    "pixel_size_detector = 55e-6\n",
    "# Wavelength in meters\n",
    "wavelength = 1.5e-10\n",
    "# Detector distance in meters\n",
    "detector_distance = 1\n",
    "\n",
    "# background\n",
    "x,y = np.arange(nxy), np.arange(nxy)\n",
    "dx, dy = np.meshgrid((x - x.mean()) / (x.max() - x.min()), (y - y.mean()) / (y.max() - y.min()))\n",
    "bg = np.exp(-5 * (dx ** 2 + dy ** 2))\n",
    "bg *= 2 * 1e9 / bg.sum()\n",
    "\n",
    "# Object options 'siemens' simulates Siemens star (with a few holes)\n",
    "# 'logo' simulates PyNX logo\n",
    "# obj_info = {'type': 'logo', 'phase_stretch': 1.57, 'alpha_win': .2}\n",
    "obj_info = {'type': 'siemens', 'phase_stretch': 1.57, 'alpha_win': .2}\n",
    "\n",
    "# Probe description, either as a Gaussian, or as a focused aperture\n",
    "probe_info = {'type': 'focus', 'aperture': (150e-6, 150e-6), 'focal_length': .08,\n",
    "              'defocus': 350e-6, 'shape': (nxy, nxy)}\n",
    "# probe_info = {'type': 'gauss', 'sigma_pix': (20, 20), 'shape': (nxy, nxy)}\n",
    "\n",
    "# Spiral scan: 50 positions = 4 turns, 78 = 5 turns, 113 = 6 turns\n",
    "scan_info = {'type': 'spiral', 'scan_step_pix': 20, 'n_scans': 200}\n",
    "\n",
    "# Data info, with the different parameters and using Poisson noise\n",
    "# nb_photons_per_frame is the average number of photons per frame\n",
    "data_info = {'nb_photons_per_frame': 1e9, 'bg': bg, 'wavelength': wavelength,\n",
    "             'detector_distance': detector_distance,\n",
    "             'detector_pixel_size': pixel_size_detector,\n",
    "             'noise': 'poisson'}\n",
    "\n",
    "# Initialisation of the simulation\n",
    "s = simulation.Simulation(obj_info=obj_info, probe_info=probe_info, scan_info=scan_info, data_info=data_info)\n",
    "s.make_data()\n",
    "posx, posy = s.scan.values\n",
    "pixel_size_object = wavelength * detector_distance / pixel_size_detector / nxy\n",
    "ampl = s.amplitude.values  # square root of the measured diffraction pattern intensity\n",
    "\n",
    "\n",
    "plt.figure(figsize=(9.5,4))\n",
    "plt.subplot(121)\n",
    "plt.imshow(bg)\n",
    "plt.colorbar()\n",
    "\n",
    "plt.subplot(122)\n",
    "plt.imshow((ampl**2).mean(axis=0))\n",
    "plt.colorbar()\n"
   ]
  },
  {
   "cell_type": "markdown",
   "metadata": {},
   "source": [
    "## Prepare the initial object and probe\n",
    "This uses the `pynx.ptycho.simulation` module for an explicit simulation of object and probe.\n",
    "\n",
    "Note that if the initial object array is not supplied to the `Ptycho`object (`obj=None`), its size will be automatically calculated, and the object initialised to an homogeneous object (array of 1)"
   ]
  },
  {
   "cell_type": "code",
   "execution_count": null,
   "metadata": {},
   "outputs": [],
   "source": [
    "# Size of the reconstructed object\n",
    "nyo, nxo = shape.calc_obj_shape(posx, posy, ampl.shape[1:])\n",
    "\n",
    "# Initial object\n",
    "obj_init_info = {'type': 'random', 'range': (0.9, 1, 0, 0.5), 'shape': (nyo, nxo)}\n",
    "\n",
    "# Initial probe\n",
    "probe_init_info = {'type': 'focus', 'aperture': (150e-6, 150e-6), 'focal_length': .08,\n",
    "              'defocus': 250e-6, 'shape': (nxy, nxy)}\n",
    "\n",
    "# Basic data info, used to compute the object pixel size\n",
    "data_info = {'wavelength': wavelength, 'detector_distance': detector_distance,\n",
    "             'detector_pixel_size': pixel_size_detector}\n",
    "# Perform the actual simulation\n",
    "init = simulation.Simulation(obj_info=obj_init_info, probe_info=probe_init_info, data_info=data_info)\n",
    "init.make_obj()\n",
    "init.make_probe()"
   ]
  },
  {
   "cell_type": "markdown",
   "metadata": {},
   "source": [
    "## Create the `PtychoData` and `Ptycho` objects"
   ]
  },
  {
   "cell_type": "code",
   "execution_count": null,
   "metadata": {
    "scrolled": false
   },
   "outputs": [],
   "source": [
    "data = PtychoData(iobs=ampl ** 2, positions=(posx * pixel_size_object, posy * pixel_size_object), \n",
    "                  detector_distance=1, mask=None, pixel_size_detector=55e-6, wavelength=1.5e-10)\n",
    "\n",
    "# Random object start + almost no initial background\n",
    "bg0 = np.random.uniform(0.5,1.5,bg.shape)\n",
    "p = Ptycho(probe=init.probe.values, obj=init.obj.values, data=data, background=bg0)\n",
    "\n",
    "# Initial scaling of object and probe\n",
    "p = ScaleObjProbe(verbose=True) * p"
   ]
  },
  {
   "cell_type": "markdown",
   "metadata": {},
   "source": [
    "## Optimise the Ptycho object \n",
    "This can use different algorithms:\n",
    "* Difference Map\n",
    "* Alternating Projections\n",
    "* Maximum Likelihood conjugate gradient\n",
    "\n",
    "For each algorithm it is possible to update object, probe, positions, and to display the result.\n",
    "\n",
    "Each algorithm operator is elevated to the the number of cycles, e.g. `DM()**40` will perform 40 cycles"
   ]
  },
  {
   "cell_type": "code",
   "execution_count": null,
   "metadata": {
    "scrolled": false
   },
   "outputs": [],
   "source": [
    "plt.figure()\n",
    "p = DM(update_object=True, update_probe=True, update_background=1, calc_llk=10, show_obj_probe=10,\n",
    "      center_probe_n=0)**200 * p\n",
    "p = AP(update_object=True, update_probe=True, calc_llk=10, update_background=1)**40 * p\n",
    "#p = ML(update_object=True, update_probe=True, calc_llk=20, show_obj_probe=20, update_background=0)**100 * p"
   ]
  },
  {
   "cell_type": "code",
   "execution_count": null,
   "metadata": {},
   "outputs": [],
   "source": [
    "# Look at the reconstructed background\n",
    "\n",
    "plt.figure()\n",
    "plt.imshow(p.get_background())  #, norm=LogNorm(vmin=0.5))\n",
    "#plt.imshow(p.get_background(), norm=LogNorm())\n",
    "#plt.imshow(abs(p._probe[0]), norm=LogNorm())\n",
    "plt.colorbar()"
   ]
  },
  {
   "cell_type": "markdown",
   "metadata": {},
   "source": [
    "## Add probe modes and continue optimising\n",
    "The `DM/o/3p` indicates:\n",
    "* the algorithm (DM or AP or ML)\n",
    "* the parts which are optimised (o for object, p for probe, t for translations)\n",
    "* the number of modes (when >1)"
   ]
  },
  {
   "cell_type": "code",
   "execution_count": null,
   "metadata": {},
   "outputs": [],
   "source": [
    "pr = p.get_probe()\n",
    "nb_probe, ny, nx = pr.shape\n",
    "# New number of probe modes\n",
    "nb_probe = 5  # 35??\n",
    "pr1 = np.empty((nb_probe, ny, nx), dtype=np.complex64)\n",
    "pr1[0] = pr[0]\n",
    "for i in range(1, nb_probe):\n",
    "    n = abs(pr).mean() / 10\n",
    "    pr1[i] = np.random.uniform(0, n, (ny, nx)) * np.exp(1j * np.random.uniform(0,2*np.pi, (ny,nx)))\n",
    "\n",
    "p.set_probe(pr1)\n",
    "\n",
    "plt.figure()\n",
    "p = DM(update_object=True, update_probe=True, update_background=1, calc_llk=10, show_obj_probe=10)**40 * p\n",
    "p = AP(update_object=True, update_probe=True, update_background=1, calc_llk=10, show_obj_probe=10)**40 * p\n",
    "p = ML(update_object=True, update_probe=True, update_background=1, calc_llk=20, show_obj_probe=20)**100 * p\n"
   ]
  },
  {
   "cell_type": "code",
   "execution_count": null,
   "metadata": {},
   "outputs": [],
   "source": [
    "# Manual decompositon of algorithms\n",
    "#p = Psi2Obj() * PropagateApplyAmplitude()* ObjProbe2Psi() * SelectStack(0) * p\n",
    "#p = Psi2ObjMerge() * LoopStack(Psi2Obj() * PropagateApplyAmplitude() * ObjProbe2Psi()) * p"
   ]
  },
  {
   "cell_type": "markdown",
   "metadata": {},
   "source": [
    "## Export data and/or result object & probe to CXI (hdf5) files"
   ]
  },
  {
   "cell_type": "code",
   "execution_count": null,
   "metadata": {},
   "outputs": [],
   "source": [
    "if False:\n",
    "    # \n",
    "    p.save_obj_probe_cxi('obj_probe.cxi')\n",
    "    save_ptycho_data_cxi('data.cxi', ampl ** 2, pixel_size_detector, wavelength, detector_distance,\n",
    "                         posx * pixel_size_object, posy * pixel_size_object, z=None, monitor=None,\n",
    "                         mask=None, instrument='simulation', overwrite=True)\n"
   ]
  },
  {
   "cell_type": "markdown",
   "metadata": {},
   "source": [
    "## View background\n",
    "... and test filtering it"
   ]
  },
  {
   "cell_type": "code",
   "execution_count": null,
   "metadata": {},
   "outputs": [],
   "source": [
    "plt.figure()\n",
    "plt.imshow(p.get_background())  #, norm=LogNorm(vmin=0.5))\n"
   ]
  },
  {
   "cell_type": "code",
   "execution_count": null,
   "metadata": {},
   "outputs": [],
   "source": [
    "b0 = p.get_background()"
   ]
  },
  {
   "cell_type": "code",
   "execution_count": null,
   "metadata": {
    "scrolled": false
   },
   "outputs": [],
   "source": [
    "p.set_background(b0)\n",
    "p = BackgroundFilter(200) * p\n",
    "b1 = p.get_background()\n",
    "plt.figure(figsize=(9.5,4))\n",
    "plt.subplot(121)\n",
    "plt.imshow(b0)\n",
    "plt.colorbar()\n",
    "plt.subplot(122)\n",
    "plt.imshow(b1)\n",
    "plt.colorbar()\n"
   ]
  },
  {
   "cell_type": "code",
   "execution_count": null,
   "metadata": {},
   "outputs": [],
   "source": []
  }
 ],
 "metadata": {
  "kernelspec": {
   "display_name": "Python 3",
   "language": "python",
   "name": "python3"
  },
  "language_info": {
   "codemirror_mode": {
    "name": "ipython",
    "version": 3
   },
   "file_extension": ".py",
   "mimetype": "text/x-python",
   "name": "python",
   "nbconvert_exporter": "python",
   "pygments_lexer": "ipython3",
   "version": "3.6.12"
  }
 },
 "nbformat": 4,
 "nbformat_minor": 2
}
