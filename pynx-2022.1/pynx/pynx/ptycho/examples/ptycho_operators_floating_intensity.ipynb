{
 "cells": [
  {
   "cell_type": "code",
   "execution_count": null,
   "metadata": {},
   "outputs": [],
   "source": [
    "########################################################################\n",
    "#\n",
    "# Example of the ptychograpic reconstruction using OpenCL on simulated data\n",
    "# (c) ESRF 2017-present\n",
    "# Authors: Vincent Favre-Nicolin <favre@esrf.fr>\n",
    "#\n",
    "########################################################################\n",
    "# floating intensities are yet only supported with OpenCL\n",
    "import os\n",
    "os.environ['PYNX_PU'] = 'opencl'\n",
    "\n",
    "from pylab import *\n",
    "%matplotlib ipympl\n",
    "from pynx.ptycho import simulation, shape\n",
    "import warnings\n",
    "warnings.simplefilter('ignore')\n",
    "\n",
    "# Import Ptycho, PtychoData and operators (automatically selecting OpenCL or CUDA)\n",
    "from pynx.ptycho import *"
   ]
  },
  {
   "cell_type": "code",
   "execution_count": null,
   "metadata": {
    "scrolled": false
   },
   "outputs": [],
   "source": [
    "##################\n",
    "# Simulation of the ptychographic data:\n",
    "n = 256\n",
    "pixel_size_detector = 55e-6\n",
    "wavelength = 1.5e-10\n",
    "detector_distance = 1\n",
    "obj_info = {'type': 'phase_ampl', 'phase_stretch': pi / 2, 'alpha_win': .2}\n",
    "probe_info = {'type': 'focus', 'aperture': (30e-6, 30e-6), 'focal_length': .08, 'defocus': 250e-6, 'shape': (n, n)}\n",
    "probe_info = {'type': 'gauss', 'sigma_pix': (40, 40), 'defocus': 100e-6, 'shape': (n, n)}\n",
    "\n",
    "# 50 scan positions correspond to 4 turns, 78 to 5 turns, 113 to 6 turns\n",
    "scan_info = {'type': 'spiral', 'scan_step_pix': 40, 'n_scans': 64}\n",
    "data_info = {'num_phot_max': 1e9, 'bg': 0, 'wavelength': wavelength, 'detector_distance': detector_distance,\n",
    "             'detector_pixel_size': pixel_size_detector,\n",
    "             'noise': 'poisson'}\n",
    "\n",
    "# Initialisation of the simulation with specified parameters, specific <object>, <probe> or <scan>positions can be passed as:\n",
    "# s = ptycho.Simulation(obj=<object>, probe=<probe>, scan = <scan>)\n",
    "# omitting obj_info, probe_info or scan_info (or passing it as empty dictionary \"{}\")\n",
    "s = simulation.Simulation(obj_info=obj_info, probe_info=probe_info, scan_info=scan_info, data_info=data_info)\n",
    "\n",
    "# Data simulation: probe.show(), obj.show(), scan.show() and s.show_illumination_sum() will visualise the integrated total coverage of the beam\n",
    "s.make_data()\n",
    "\n",
    "posx, posy = s.scan.values\n",
    "\n",
    "pixel_size_object = wavelength * detector_distance / pixel_size_detector / n\n",
    "\n",
    "ampl = s.amplitude.values  # square root of the measured diffraction pattern intensity\n",
    "\n",
    "##################\n",
    "# Size of the reconstructed object (obj)\n",
    "nyo, nxo = shape.calc_obj_shape(posx, posy, ampl.shape[1:])\n",
    "\n",
    "# Initial object\n",
    "# obj_init_info = {'type':'flat','shape':(nx,ny)}\n",
    "obj_init_info = {'type': 'random', 'range': (0, 1, 0, 0.5), 'shape': (nyo, nxo)}\n",
    "# Initial probe\n",
    "probe_init_info = {'type': 'focus', 'aperture': (20e-6, 20e-6), 'focal_length': .08, 'defocus': 50e-6, 'shape': (n, n)}\n",
    "data_info = {'wavelength': wavelength, 'detector_distance': detector_distance,\n",
    "             'detector_pixel_size': pixel_size_detector}\n",
    "init = simulation.Simulation(obj_info=obj_init_info, probe_info=probe_init_info, data_info=data_info)\n",
    "\n",
    "init.make_obj()\n",
    "init.make_probe()"
   ]
  },
  {
   "cell_type": "code",
   "execution_count": null,
   "metadata": {
    "scrolled": false
   },
   "outputs": [],
   "source": [
    "# Add top-up type scaling of the intensity (we should also use Poisson statistics for good measure...)\n",
    "iobs = ampl ** 2\n",
    "iobs_f = []\n",
    "for i in range(len(ampl)):\n",
    "    iobs_f.append(np.exp(-(i%10)/40))\n",
    "    iobs[i] *= iobs_f[-1]\n",
    "iobs_f = np.array(iobs_f)\n",
    "iobs_f /= iobs_f.mean()\n",
    "\n",
    "data = PtychoData(iobs=iobs, positions=(posx * pixel_size_object, posy * pixel_size_object), \n",
    "                  detector_distance=1, mask=None, pixel_size_detector=55e-6, wavelength=1.5e-10)\n",
    "\n",
    "if True:\n",
    "    p = Ptycho(probe=s.probe.values, obj=init.obj.values, data=data, background=None) # Random object start\n",
    "else:\n",
    "    p = Ptycho(probe=s.probe.values, obj=s.obj.values, data=data, background=None)  #\n",
    "# Initial scaling of object and probe\n",
    "p = ScaleObjProbe() * p"
   ]
  },
  {
   "cell_type": "code",
   "execution_count": null,
   "metadata": {
    "scrolled": false
   },
   "outputs": [],
   "source": [
    "plt.figure(figsize=(9.5,6))\n",
    "p = DM(update_object=True, update_probe=True, calc_llk=10)**40 * p\n",
    "#p = AP(update_object=True, update_probe=False, calc_llk=10)**40 * p\n",
    "p = ML(update_object=True, update_probe=False, calc_llk=10)**20 * p\n",
    "p = ShowObjProbe() * p"
   ]
  },
  {
   "cell_type": "code",
   "execution_count": null,
   "metadata": {
    "scrolled": false
   },
   "outputs": [],
   "source": [
    "p = ShowObjProbe() * AP(update_object=True, update_probe=False, floating_intensity=True, calc_llk=10)**40 * p"
   ]
  },
  {
   "cell_type": "code",
   "execution_count": null,
   "metadata": {},
   "outputs": [],
   "source": [
    "p = ML(update_object=True, update_probe=False, floating_intensity=True, calc_llk=10) ** 50 * p"
   ]
  },
  {
   "cell_type": "code",
   "execution_count": null,
   "metadata": {},
   "outputs": [],
   "source": [
    "p.from_pu()\n",
    "plt.figure()\n",
    "plt.plot(p.data.scale,'k-', label='scale_calc')\n",
    "iobs_f /= iobs_f.mean()\n",
    "plt.plot(iobs_f, 'r-', label='scale_simul')"
   ]
  },
  {
   "cell_type": "code",
   "execution_count": null,
   "metadata": {},
   "outputs": [],
   "source": []
  }
 ],
 "metadata": {
  "kernelspec": {
   "display_name": "Python 3 (ipykernel)",
   "language": "python",
   "name": "python3"
  },
  "language_info": {
   "codemirror_mode": {
    "name": "ipython",
    "version": 3
   },
   "file_extension": ".py",
   "mimetype": "text/x-python",
   "name": "python",
   "nbconvert_exporter": "python",
   "pygments_lexer": "ipython3",
   "version": "3.8.6"
  }
 },
 "nbformat": 4,
 "nbformat_minor": 2
}
