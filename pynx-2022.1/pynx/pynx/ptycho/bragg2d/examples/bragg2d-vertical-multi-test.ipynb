{
 "cells": [
  {
   "cell_type": "code",
   "execution_count": null,
   "metadata": {},
   "outputs": [],
   "source": [
    "########################################################################\n",
    "#\n",
    "# Example of 2D Bragg ptycho with multiple detector positions (with debug)\n",
    "# (c) ESRF 2019-present\n",
    "# Authors: Vincent Favre-Nicolin <favre@esrf.fr>\n",
    "#\n",
    "########################################################################\n",
    "%matplotlib notebook\n",
    "import os\n",
    "import sys\n",
    "import timeit\n",
    "import numpy as np\n",
    "import matplotlib.pyplot as plt\n",
    "from matplotlib.colors import LogNorm\n",
    "from ipywidgets import interact, IntSlider\n",
    "from scipy.ndimage import center_of_mass\n",
    "\n",
    "# Use only OpenCL - this must be done before PyNX imports\n",
    "os.environ['PYNX_PU']='opencl'  # Force using OpenCL only (even for Wavefront)\n",
    "\n",
    "from pynx.ptycho.bragg2d import *\n",
    "from pynx.ptycho.bragg.cpu_operator import show_3d\n",
    "from pynx.ptycho.simulation import spiral_archimedes\n",
    "from pynx.wavefront import Wavefront, ImshowRGBA, ImshowAbs, PropagateFarField, PropagateNearField\n",
    "from pynx.utils.plot_utils import complex2rgbalin, complex2rgbalog, complex2rgblin_dark\n",
    "\n",
    "# Full width\n",
    "from IPython.core.display import display, HTML\n",
    "display(HTML(\"<style>.container { width:100% !important; }</style>\"))"
   ]
  },
  {
   "cell_type": "code",
   "execution_count": null,
   "metadata": {
    "scrolled": false
   },
   "outputs": [],
   "source": [
    "# Experiment parameters\n",
    "wavelength = 1.5e-10\n",
    "delta = np.deg2rad(45)\n",
    "eta = delta/2\n",
    "nu = np.deg2rad(0)\n",
    "pixel_size_detector = 55e-6\n",
    "ny, nx = (160, 160)\n",
    "detector_distance = 1\n",
    "\n",
    "# Spiralscan positions\n",
    "nb = 32\n",
    "xs, ys = spiral_archimedes(200e-9, nb)\n",
    "zs = np.zeros_like(xs)\n",
    "\n",
    "# Rotate positions according to eta (piezo motors in the sample frame are rotated by eta)\n",
    "ce, se = np.cos(eta), np.sin(eta)\n",
    "ys, zs = ce * ys + se * zs, ce * zs - se * ys\n",
    "\n",
    "# Project the positions along z onto the average sample position, to avoid non-centered Psi\n",
    "# Is it still necessary ??\n",
    "zs += ys / np.tan(eta)\n",
    "\n",
    "########### Multiple orientation positions ####################################\n",
    "multi = 'lateral'\n",
    "# Base scattering vector s\n",
    "theta = delta / 2\n",
    "s = 2 * np.sin(theta) / wavelength\n",
    "sx, sy, sz = 0, s * np.cos(theta), -s * np.sin(theta)\n",
    "# Coordinates on detector in reference frame (meters)\n",
    "sxd = sx * detector_distance * wavelength\n",
    "syd = sy * detector_distance * wavelength\n",
    "szd = (sz + 1 / wavelength) * detector_distance * wavelength\n",
    "\n",
    "if multi == 'lateral':\n",
    "    # detector (or ROI) is shifted left and right by a certain number of pixels\n",
    "    dx = 200 * (xs-xs.mean()) / abs(xs - xs.mean()).max()  # Pure lateral shift of maximum 100 pixels\n",
    "    # Change in scattering vector on detector (only along x)\n",
    "    sxd1 = sxd + pixel_size_detector * dx\n",
    "    # New scattering vector on Ewald's sphere\n",
    "    sd1n = np.sqrt(sxd1**2 + syd**2 + szd**2)\n",
    "    sx1 = sxd1 / sd1n / wavelength\n",
    "    sy1 = syd / sd1n / wavelength\n",
    "    sz1 = (szd / sd1n - 1) / wavelength\n",
    "\n",
    "scattering_vector = (sx1, sy1, sz1)\n",
    "###############################################################################\n",
    "# detector parameters\n",
    "detector = {'rotation_axes': (('x', delta), ('y', nu)), 'pixel_size': pixel_size_detector,\n",
    "            'distance': detector_distance}\n",
    "\n",
    "default_processing_unit.cl_stack_size = len(xs)  # Use only one stack"
   ]
  },
  {
   "cell_type": "code",
   "execution_count": null,
   "metadata": {},
   "outputs": [],
   "source": [
    "plt.figure()\n",
    "plt.plot(sx1, sy1)"
   ]
  },
  {
   "cell_type": "code",
   "execution_count": null,
   "metadata": {},
   "outputs": [],
   "source": [
    "# Create empty data\n",
    "data = Bragg2DPtychoData(iobs=np.empty((nb, ny, nx), dtype=np.float32), positions=(xs, ys, zs), mask=None,\n",
    "                       wavelength=wavelength, detector=detector, scattering_vector=scattering_vector)\n",
    "plt.figure()\n",
    "plt.plot(data.posx * 1e6, data.posy * 1e6)"
   ]
  },
  {
   "cell_type": "code",
   "execution_count": null,
   "metadata": {
    "scrolled": false
   },
   "outputs": [],
   "source": [
    "if False:\n",
    "    # Import existing probe from 2D ptycho\n",
    "    d = np.load(\"/Users/favre/Analyse/201606id01-FZP/ResultsScan0013/latest.npz\")\n",
    "    #d = np.load(\"/Users/vincent/Analyse/201606id01-FZP/ResultsScan0000/latest.npz\")\n",
    "    pr = Wavefront(d=np.fft.fftshift(d['probe'],axes=(-2,-1)), z=0, pixel_size=d['pixelsize'], wavelength=wavelength)\n",
    "else:\n",
    "    # Simulate probe from a focused aperture, with some defocusing\n",
    "    pixel_size_focus = wavelength * detector_distance / (nx * pixel_size_detector)\n",
    "    focal_length = 0.09\n",
    "    defocus = 0e-6\n",
    "    pixel_size_aperture = wavelength * focal_length / (nx * pixel_size_focus)\n",
    "    pr = Wavefront(d=np.ones((ny, nx)), wavelength=wavelength, pixel_size=pixel_size_aperture)\n",
    "    x, y = pr.get_x_y()\n",
    "    r = np.sqrt(x**2+y**2)\n",
    "    print(x.min(),x.max(), y.min(), y.max(), wavelength, pixel_size_aperture)\n",
    "    #widthy = 200e-6\n",
    "    #widthx = 200e-6\n",
    "    #pr.set((abs(y) < (widthy / 2)) * (abs(x) < (widthx / 2)))\n",
    "    pr.set(r < 50e-6)\n",
    "    pr = PropagateNearField(dz=defocus) * PropagateFarField(focal_length, forward=False) * pr\n",
    "\n",
    "print('Probe pixel size: %6.2fnm'%(pr.pixel_size*1e9))\n",
    "pr = ImshowRGBA()*pr"
   ]
  },
  {
   "cell_type": "code",
   "execution_count": null,
   "metadata": {},
   "outputs": [],
   "source": [
    "# Create main Bragg Ptycho object\n",
    "p = Bragg2DPtycho(probe=pr, data=data, support=None)\n",
    "pxyz = p.voxel_size_object()\n",
    "print(wavelength * detector_distance / (pixel_size_detector*nx)*1e9)\n",
    "print(\"Object voxel size: %6.2fnm x %6.2fnm x %6.2fnm\" % (pxyz[0] * 1e9, pxyz[1] * 1e9, pxyz[2] * 1e9))\n",
    "print(p.m)"
   ]
  },
  {
   "cell_type": "code",
   "execution_count": null,
   "metadata": {
    "scrolled": false
   },
   "outputs": [],
   "source": [
    "# Base parallelepiped object\n",
    "x0, x1, y0, y1, z0, z1 = -.6e-6, .6e-6, -200e-9, 200e-9, -1e-6, 1e-6\n",
    "# Create a support. Larger than the object, or not...\n",
    "rs = 1.0\n",
    "# Equation for GPU init of support using Monte-Carlo integration\n",
    "eq = \"(x >= %g) * (x <= %g) * (y >= %g) * (y <= %g) * (z >= %g) * (z <= %g)\" % (rs * x0, rs * x1, rs * y0, rs * y1, rs * z0, rs * z1)\n",
    "print(eq)\n",
    "p = InitSupport(eq, rotation_axes=[('x', -eta)], shrink_object_around_support=True) * p\n",
    "\n",
    "if False:\n",
    "    plt.figure(figsize=(9,4))\n",
    "    show_3d(p.support,ortho_m=p.m, rotation=('x', -eta))\n",
    "    plt.figure(figsize=(9,4))\n",
    "    show_3d(p.support,ortho_m=p.m, rotation=None)\n"
   ]
  },
  {
   "cell_type": "code",
   "execution_count": null,
   "metadata": {
    "scrolled": false
   },
   "outputs": [],
   "source": [
    "obj0 = p.support / 100\n",
    "obj1 = obj0.copy()\n",
    "if False:\n",
    "    x, y, z = p.get_xyz()\n",
    "    # Add some strain\n",
    "    obj1 = obj0 * np.exp(1j *(x ** 2 + 0.1 * z ** 2) / 100e-9 ** 2)\n",
    "\n",
    "p.set_obj(obj1)\n",
    "if False:\n",
    "    plt.figure(figsize=(9,4))\n",
    "    plt.pcolormesh(z[:,:,nxo//2]*1e6,y[:,:,nxo//2]*1e6,abs(p._obj[0,:,:,nxo//2]))\n",
    "    plt.xlabel('z')\n",
    "    plt.ylabel('y')\n",
    "    plt.xlim(-.5,.5)\n",
    "    plt.ylim(-.5,.5)\n",
    "    plt.gca().set_aspect('equal')\n",
    "\n",
    "    #show_3d(p._probe[0],ortho_m=p.m)\n",
    "    show_3d(p.support,ortho_m=p.m, rotation=('x', eta))\n",
    "plt.figure(figsize=(9,4))\n",
    "p = ShowObj(rotation=None, title='Object (eta=%6.2f°, delta=%6.2f°)' % (np.rad2deg(eta), np.rad2deg(delta))) * p\n",
    "#p = ShowObj(rotation=('x', eta), title='Object rotated back to eta=0') * p\n",
    "print(x0*1e6,x1*1e6,y0*1e6,y1*1e6,z0*1e6,z1*1e6)"
   ]
  },
  {
   "cell_type": "code",
   "execution_count": null,
   "metadata": {
    "scrolled": false
   },
   "outputs": [],
   "source": [
    "# Compute the pixel coordinate of the center of the object*probe for each frame\n",
    "p = CalcCenterObjProbe() * p\n",
    "print(p._cl_obs_v[0].cl_cixo, p._cl_obs_v[0].cl_ciyo)"
   ]
  },
  {
   "cell_type": "code",
   "execution_count": null,
   "metadata": {},
   "outputs": [],
   "source": [
    "#print(p._cl_obs_v[0].cl_ix, p._cl_obs_v[0].cl_iy)\n",
    "plt.figure()\n",
    "plt.scatter(p._cl_obs_v[0].cl_cixo.get(),p._cl_obs_v[0].cl_ciyo.get())\n",
    "#plt.plot(p.data.posx,p.data.posy)\n",
    "#plt.plot(xs,ys)"
   ]
  },
  {
   "cell_type": "code",
   "execution_count": null,
   "metadata": {},
   "outputs": [],
   "source": [
    "# This uses a lot of memory if npsi=None (all frames) or too large\n",
    "npsi = 5\n",
    "sx0, sy0, sz0 = p.data.s0  # Mean scattering vector for all frames, in laboratory referennce frame\n",
    "if False:\n",
    "    sx1, sy1, sz1 = sx0 - 4e7 * np.ones(npsi), sy0 * np.ones(npsi), sz0 * np.ones(npsi)\n",
    "\n",
    "    scattering_vector = sx1,sy1, sz1\n",
    "\n",
    "scattering_vector = p.data.calc_ds(np.linspace(-50,50,npsi), np.linspace(-50,50,npsi)*0)\n",
    "\n",
    "p = FT() * ObjProbe2PsiDebug(npsi=npsi, calc_3d=True,\n",
    "                             positions=(np.linspace(0,.5e-6, npsi), np.zeros(npsi)),\n",
    "                             scattering_vector=scattering_vector) * p\n",
    "\n",
    "\n",
    "r = complex2rgbalin\n",
    "#r = np.abs\n",
    "\n",
    "plt.figure(figsize=(17,4))\n",
    "def iplot(i, i1):\n",
    "    plt.clf()\n",
    "    plt.subplot(141)\n",
    "    vmax = np.percentile(np.abs(p._psi3d[0,0,i,i1]),99)\n",
    "    plt.imshow(r(p._psi3d[0,0,i,i1]),origin='lower') #,norm=LogNorm(vmin=vmax/1e4, vmax=vmax))\n",
    "    plt.title('Psi3d')\n",
    "    plt.colorbar()\n",
    "    \n",
    "    plt.subplot(142)\n",
    "    plt.imshow(r(p._obj3d[0,0,i,i1]),origin='lower') #,norm=LogNorm(vmin=vmax/1e4, vmax=vmax))\n",
    "    plt.title('Obj3d')\n",
    "    plt.colorbar()\n",
    "    \n",
    "    plt.subplot(143)\n",
    "    plt.imshow(r(p._probe3d[0,0,i,i1]),origin='lower') #,norm=LogNorm(vmin=vmax/1e4, vmax=vmax))\n",
    "    plt.title('Probe3d')\n",
    "    plt.colorbar()\n",
    "    plt.tight_layout()\n",
    "    plt.suptitle('XY')\n",
    "\n",
    "    plt.subplot(144)\n",
    "    c = np.abs(np.fft.fftshift(p._cl_psi[0,0,i].get()))**2\n",
    "    dy, dx = center_of_mass(c)\n",
    "    plt.imshow(c, norm=LogNorm(vmin=0.1))\n",
    "    plt.title('Icalc ; dx = %6.2f dy = %6.2f' % (dx - c.shape[1]//2, dy - c.shape[0]//2))\n",
    "    plt.tight_layout()\n",
    "\n",
    "interact(iplot, i=IntSlider(min=0,max=npsi-1,step=1,value=0),\n",
    "         i1=IntSlider(min=0,max=p._psi3d.shape[-3]-1,step=1,value=p._psi3d.shape[-3]//2))"
   ]
  },
  {
   "cell_type": "code",
   "execution_count": null,
   "metadata": {},
   "outputs": [],
   "source": [
    "%%javascript\n",
    "Jupyter.notebook.session.stop();"
   ]
  },
  {
   "cell_type": "code",
   "execution_count": null,
   "metadata": {
    "scrolled": false
   },
   "outputs": [],
   "source": [
    "p = ObjProbe2Psi() * p\n",
    "# Display calculated Psi before propagation to the detector\n",
    "\n",
    "if True:\n",
    "    plt.figure(figsize=(9,4))\n",
    "    psi = np.fft.fftshift(p._cl_psi.get(), axes=(-1,-2))[0,0]\n",
    "    # psi = p._cl_psi.get()[0,0]\n",
    "    def iplot(i):\n",
    "        plt.clf()\n",
    "        #plt.imshow(np.abs(psi[i]),origin='lower')\n",
    "        plt.imshow(complex2rgbalin(psi[i]),origin='lower')\n",
    "        plt.title('Psi #%d'%i)\n",
    "        plt.colorbar()\n",
    "\n",
    "    interact(iplot, i=IntSlider(min=0,max=len(p.data.iobs)-1,step=1,value=0))"
   ]
  },
  {
   "cell_type": "code",
   "execution_count": null,
   "metadata": {
    "scrolled": false
   },
   "outputs": [],
   "source": [
    "# Calculate the observed intensity and copy it to the observed ones\n",
    "p = Calc2Obs(poisson_noise=True, nb_photons_per_frame=1e7) * FT() * ObjProbe2Psi() * p\n",
    "\n",
    "if True:\n",
    "    # Display simulated intensities\n",
    "    plt.figure(figsize=(9,4))\n",
    "    iobs = np.fft.fftshift(p.data.iobs, axes=(-1,-2))\n",
    "    def plot_simul(i):\n",
    "        plt.clf()\n",
    "        plt.imshow(np.abs(iobs[i]),origin='lower', norm=LogNorm(vmin=0.01))\n",
    "        plt.title('Simulated frame #%d'%i)\n",
    "        plt.colorbar()\n",
    "\n",
    "    interact(plot_simul, i=IntSlider(min=0,max=len(p.data.iobs)-1,step=1,value=0))"
   ]
  },
  {
   "cell_type": "code",
   "execution_count": null,
   "metadata": {
    "scrolled": false
   },
   "outputs": [],
   "source": [
    "# Set object starting point\n",
    "p.set_obj(obj0 * np.random.uniform(.2,1.0,obj0.shape))\n",
    "p = CalcCenterObjProbe() * p\n",
    "plt.figure(figsize=(9,4))\n",
    "p = ShowObj(rotation=('x',eta)) * p\n",
    "\n",
    "if True:\n",
    "    # Set starting probe by cutting low amplitudes\n",
    "    pr = np.abs(p.get_probe())\n",
    "    apr = abs(pr)\n",
    "    p.set_probe(apr * (apr > (apr.max()/10)))\n",
    "\n",
    "# Scale object and probe with observed intensity before any optimisation\n",
    "p = ScaleObjProbe() * p"
   ]
  },
  {
   "cell_type": "code",
   "execution_count": null,
   "metadata": {
    "scrolled": false
   },
   "outputs": [],
   "source": [
    "# Solve this\n",
    "plt.figure(figsize=(9,4))\n",
    "\n",
    "p = DM(update_object=True, update_probe=False, calc_llk=5, show_obj_probe=0, reg_fac_obj_a=1e5, reg_fac_obj_c=100) ** 20 * p\n",
    "p = AP(update_object=True, update_probe=False, calc_llk=5, show_obj_probe=0, reg_fac_obj_a=1e5, reg_fac_obj_c=100) ** 40 * p\n",
    "\n",
    "#p = ML(calc_llk=5, show_obj_probe=0) ** 40 * p\n",
    "p = ShowObj() * p"
   ]
  },
  {
   "cell_type": "code",
   "execution_count": null,
   "metadata": {
    "scrolled": false
   },
   "outputs": [],
   "source": [
    "if False:\n",
    "    # Compare obs and calc frames\n",
    "    plt.figure(figsize=(9,4))\n",
    "    p = FT(scale=False) * ObjProbe2Psi() * p\n",
    "    calc = np.fft.fftshift(p._cl_psi.get()[0,0], axes=(-1,-2))\n",
    "    obs0 = np.fft.fftshift(p.data.iobs, axes=(-1,-2))\n",
    "    obs = obs0 * (obs0>=0)  # remove <0 (masked) pixels\n",
    "    print(obs[0].sum() / (np.abs(calc[0])**2).sum())\n",
    "    def plot_obs_calc(i):\n",
    "        plt.clf()\n",
    "        plt.subplot(121)\n",
    "        vmax = np.percentile(np.abs(obs[i]),99)\n",
    "        plt.imshow(np.abs(calc[i])**2,origin='lower',norm=LogNorm(vmin=0.01, vmax=vmax))\n",
    "        plt.title('calc')\n",
    "        plt.colorbar()\n",
    "        plt.subplot(122)\n",
    "        plt.imshow(np.abs(obs[i]),origin='lower',norm=LogNorm(vmin=0.01, vmax=vmax))\n",
    "        #plt.imshow(obs0[i],origin='lower', vmin=0, vmax=20)\n",
    "        plt.title('obs')\n",
    "        plt.colorbar()\n",
    "\n",
    "    interact(plot_obs_calc, i=IntSlider(min=0,max=len(p.data.iobs)-1,step=1,value=0))"
   ]
  },
  {
   "cell_type": "code",
   "execution_count": null,
   "metadata": {
    "scrolled": false
   },
   "outputs": [],
   "source": [
    "if False:\n",
    "    p = FourierApplyAmplitude() * ObjProbe2Psi() * p\n",
    "    psi0 = np.fft.fftshift(p._cl_psi.get()[0,0], axes=[-1,-2])\n",
    "    p = ObjProbe2Psi() * Psi2ObjProbe() * p\n",
    "    psi1 = np.fft.fftshift(p._cl_psi.get()[0,0], axes=[-1,-2])\n",
    "    plt.figure(figsize=(9,4))\n",
    "    def iplot(i):\n",
    "        plt.clf()\n",
    "        plt.subplot(121)\n",
    "        vmax = np.percentile(np.abs(psi0[i]),99)\n",
    "        plt.imshow(np.abs(psi0[i])**2,origin='lower',norm=LogNorm(vmin=vmax/1e4, vmax=vmax))\n",
    "        plt.title('psi0')\n",
    "        plt.colorbar()\n",
    "        plt.subplot(122)\n",
    "        plt.imshow(np.abs(psi1[i]),origin='lower',norm=LogNorm(vmin=vmax/1e4, vmax=vmax))\n",
    "        #plt.imshow(obs0[i],origin='lower', vmin=0, vmax=20)\n",
    "        plt.title('psi1')\n",
    "        plt.colorbar()\n",
    "        print(i, (np.abs(psi1[i] * (np.abs(psi0[i])>0))**2).sum() / (np.abs(psi0[i])**2).sum())\n",
    "\n",
    "    interact(iplot, i=IntSlider(min=0,max=len(p.data.iobs)-1,step=1,value=0))"
   ]
  },
  {
   "cell_type": "code",
   "execution_count": null,
   "metadata": {
    "scrolled": false
   },
   "outputs": [],
   "source": [
    "if False:\n",
    "    # This uses a lot of memory if npsi=None (all frames) or too large\n",
    "    npsi = 16\n",
    "    p = ObjProbe2PsiDebug(npsi=npsi) * p\n",
    "    r = complex2rgbalin\n",
    "    #r = np.abs\n",
    "\n",
    "    plt.figure(figsize=(15,4))\n",
    "    def iplot(i, i1):\n",
    "        plt.clf()\n",
    "        plt.subplot(131)\n",
    "        vmax = np.percentile(np.abs(p._psi3d[0,0,i,i1]),99)\n",
    "        plt.imshow(r(p._psi3d[0,0,i,i1]),origin='lower') #,norm=LogNorm(vmin=vmax/1e4, vmax=vmax))\n",
    "        plt.title('Psi3d')\n",
    "        plt.colorbar()\n",
    "        plt.subplot(132)\n",
    "        plt.imshow(r(p._obj3d[0,0,i,i1]),origin='lower') #,norm=LogNorm(vmin=vmax/1e4, vmax=vmax))\n",
    "        plt.title('Obj3d')\n",
    "        plt.colorbar()\n",
    "        plt.subplot(133)\n",
    "        plt.imshow(r(p._probe3d[0,0,i,i1]),origin='lower') #,norm=LogNorm(vmin=vmax/1e4, vmax=vmax))\n",
    "        plt.title('Probe3d')\n",
    "        plt.colorbar()\n",
    "        plt.tight_layout()\n",
    "        plt.suptitle('XY')\n",
    "\n",
    "    interact(iplot, i=IntSlider(min=0,max=npsi-1,step=1,value=0),\n",
    "             i1=IntSlider(min=0,max=p._psi3d.shape[-3]-1,step=1,value=p._psi3d.shape[-3]//2))"
   ]
  },
  {
   "cell_type": "code",
   "execution_count": null,
   "metadata": {},
   "outputs": [],
   "source": [
    "if False:\n",
    "    # This uses a lot of memory if npsi=None (all frames) or too large\n",
    "    p = ObjProbe2PsiDebug() * p\n",
    "\n",
    "    plt.figure(figsize=(15,4))\n",
    "    def iplot(i, i1):\n",
    "        plt.clf()\n",
    "        plt.subplot(131)\n",
    "        vmax = np.percentile(np.abs(psi0[i]),99)\n",
    "        plt.imshow(np.abs(p._psi3d[0,0,i,:, i1]),origin='lower') #,norm=LogNorm(vmin=vmax/1e4, vmax=vmax))\n",
    "        plt.title('Psi3d')\n",
    "        plt.colorbar()\n",
    "        plt.subplot(132)\n",
    "        plt.imshow(np.abs(p._obj3d[0,0,i,:, i1]),origin='lower') #,norm=LogNorm(vmin=vmax/1e4, vmax=vmax))\n",
    "        plt.title('Obj3d')\n",
    "        plt.colorbar()\n",
    "        plt.subplot(133)\n",
    "        plt.imshow(np.abs(p._probe3d[0,0,i,:,i1]),origin='lower') #,norm=LogNorm(vmin=vmax/1e4, vmax=vmax))\n",
    "        plt.title('Probe3d')\n",
    "        plt.colorbar()\n",
    "        plt.tight_layout()\n",
    "        plt.suptitle('XZ')\n",
    "\n",
    "    interact(iplot, i=IntSlider(min=0,max=len(p.data.iobs)-1,step=1,value=0),\n",
    "             i1=IntSlider(min=0,max=p._psi3d.shape[-2]-1,step=1,value=p._psi3d.shape[-2]//2))"
   ]
  },
  {
   "cell_type": "code",
   "execution_count": null,
   "metadata": {},
   "outputs": [],
   "source": [
    "if False:\n",
    "    # This uses a lot of memory if npsi=None (all frames) or too large\n",
    "    p = ObjProbe2PsiDebug() * p\n",
    "\n",
    "    plt.figure(figsize=(18,3))\n",
    "    def iplot(i, ix):\n",
    "        plt.clf()\n",
    "        plt.subplot(131)\n",
    "        vmax = np.percentile(np.abs(psi0[i]),99)\n",
    "        plt.imshow(np.abs(p._psi3d[0,0,i,:, :, ix]),origin='lower') #,norm=LogNorm(vmin=vmax/1e4, vmax=vmax))\n",
    "        plt.title('Psi3d')\n",
    "        plt.colorbar()\n",
    "        plt.subplot(132)\n",
    "        plt.imshow(np.abs(p._obj3d[0,0,i,:, :, ix]),origin='lower') #,norm=LogNorm(vmin=vmax/1e4, vmax=vmax))\n",
    "        plt.title('Obj3d')\n",
    "        plt.colorbar()\n",
    "        plt.subplot(133)\n",
    "        plt.imshow(np.abs(p._probe3d[0,0,i,:,:, ix]),origin='lower') #,norm=LogNorm(vmin=vmax/1e4, vmax=vmax))\n",
    "        plt.title('Probe3d')\n",
    "        plt.colorbar()\n",
    "        plt.tight_layout()\n",
    "        plt.suptitle('YZ')\n",
    "\n",
    "    interact(iplot, i=IntSlider(min=0,max=len(p.data.iobs)-1,step=1,value=0),\n",
    "             ix=IntSlider(min=0,max=p._psi3d.shape[-1]-1,step=1,value=p._psi3d.shape[-1]//2))"
   ]
  },
  {
   "cell_type": "code",
   "execution_count": null,
   "metadata": {
    "scrolled": false
   },
   "outputs": [],
   "source": [
    "if False:\n",
    "    plt.figure(figsize=(13,4))\n",
    "    plt.subplot(141)\n",
    "    plt.imshow(np.log10(abs(p._cl_probe.get()[0])))\n",
    "    plt.colorbar()\n",
    "    plt.subplot(142)\n",
    "    plt.imshow(np.log10(abs(p._cl_probe_grad.get()[0])))\n",
    "    plt.colorbar()\n",
    "    plt.subplot(143)\n",
    "    nzo, nyo, nxo = p.support.shape\n",
    "    plt.imshow(abs(p._cl_obj.get()[0,:,:,nxo//2]), origin='lower')\n",
    "    plt.colorbar()\n",
    "    plt.subplot(144)\n",
    "    plt.imshow(abs(p._cl_obj_grad.get()[0,:,:,nxo//2]), origin='lower')\n",
    "    plt.colorbar()\n"
   ]
  },
  {
   "cell_type": "code",
   "execution_count": null,
   "metadata": {},
   "outputs": [],
   "source": []
  }
 ],
 "metadata": {
  "kernelspec": {
   "display_name": "Python 3",
   "language": "python",
   "name": "python3"
  },
  "language_info": {
   "codemirror_mode": {
    "name": "ipython",
    "version": 3
   },
   "file_extension": ".py",
   "mimetype": "text/x-python",
   "name": "python",
   "nbconvert_exporter": "python",
   "pygments_lexer": "ipython3",
   "version": "3.5.5"
  }
 },
 "nbformat": 4,
 "nbformat_minor": 2
}
