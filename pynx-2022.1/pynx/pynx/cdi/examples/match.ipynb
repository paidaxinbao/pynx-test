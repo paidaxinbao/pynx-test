{
 "cells": [
  {
   "cell_type": "code",
   "execution_count": null,
   "metadata": {},
   "outputs": [],
   "source": [
    "%matplotlib notebook\n",
    "import numpy as np\n",
    "from scipy import fftpack\n",
    "import matplotlib.pyplot as plt\n",
    "from skimage.feature import register_translation\n",
    "import os\n",
    "#os.environ['PYNX_PU'] = 'OpenCL.Iris'\n",
    "from pynx.cdi.selection import *\n",
    "from pynx.utils.pattern import siemens_star, fibonacci_urchin\n",
    "import h5py as h5\n",
    "h5.enable_ipython_completer()"
   ]
  },
  {
   "cell_type": "code",
   "execution_count": null,
   "metadata": {},
   "outputs": [],
   "source": [
    "# 3D\n",
    "if True:\n",
    "    n = 64\n",
    "    z, y, x = np.meshgrid(np.arange(n) / n,np.arange(n) / n, np.arange(n) / n, indexing='ij')\n",
    "\n",
    "    d1 = fibonacci_urchin(dsize=n, r_max=n-10) #* np.exp(1j * (0.5 + 2 * x + 0.7 * y))\n",
    "    d2 = fibonacci_urchin(dsize=n, r_max=n-11) * np.exp(1j * (-3 + 1 * x + 0.3 * y + 0.9 * z))\n",
    "    d2 = np.flipud(d2)\n",
    "else:\n",
    "    h = h5.File('/Users/favre/data/201702-BraggCDI-Pt/alignment_S2280-2018-09-17T12-00-00_LLK000.366.cxi', 'r')\n",
    "    d1 = h['entry_1/data_1/data'][()]\n",
    "    h = h5.File('/Users/favre/data/201702-BraggCDI-Pt/alignment_S2280-2018-09-17T12-06-19_LLK000.368.cxi', 'r')\n",
    "    d2 = h['entry_1/data_1/data'][()]\n",
    "    # Crop to the same dimensions\n",
    "    #d1 = d1[:40,:40,:40]\n",
    "    #d2 = d2[:40,:40,:40]\n",
    "    #print(d1.shape,d2.shape)\n",
    "\n",
    "if True:\n",
    "    d1g, d2g, r = match2(d1,d2,match_phase_ramp=True, verbose=2, use_gpu=True, match_orientation='center')\n",
    "    print('\\n\\n')\n",
    "    d1c, d2c, r = match2(d1,d2,match_phase_ramp=True, verbose=2, use_gpu=False, match_orientation='center')"
   ]
  },
  {
   "cell_type": "code",
   "execution_count": null,
   "metadata": {
    "scrolled": false
   },
   "outputs": [],
   "source": [
    "# 2D\n",
    "n = 128\n",
    "\n",
    "y, x = np.meshgrid(np.arange(n) / n, np.arange(n) / n, indexing='ij')\n",
    "\n",
    "d1 = siemens_star(dsize=n, r_max=n-20, nb_rays=12, cheese_holes_nb=10) #* np.exp(1j * (0.5 + 2 * x + 0.7 * y))\n",
    "d2 = siemens_star(dsize=n, r_max=n-20, nb_rays=12, cheese_holes_nb=10) * np.exp(1j * (-3 + 3 * x + 0.3 * y))\n",
    "d2 = np.flipud(d2)\n",
    "\n",
    "d1g, d2g, r = match2(d1,d2,match_phase_ramp=True, verbose=2, use_gpu=True, match_orientation='all')\n",
    "print('\\n\\n')\n",
    "d1c, d2c, r = match2(d1,d2,match_phase_ramp=True, verbose=2, use_gpu=False, match_orientation='all')"
   ]
  },
  {
   "cell_type": "code",
   "execution_count": null,
   "metadata": {},
   "outputs": [],
   "source": [
    "# 2D - test manual correction from parameters\n",
    "n = 128\n",
    "dphi = 1.5\n",
    "pixel_shift0 = 2, 5\n",
    "\n",
    "y, x = np.meshgrid(np.arange(n) / n, np.arange(n) / n, indexing='ij')\n",
    "\n",
    "d1 = siemens_star(dsize=n, r_max=n-20, nb_rays=12, cheese_holes_nb=10) #* np.exp(1j * (0.5 + 2 * x + 0.7 * y))\n",
    "d2 = siemens_star(dsize=n, r_max=n-20, nb_rays=12, cheese_holes_nb=10) * np.exp(1j * (-3 + 1 * x + 0.5 * y))\n",
    "print(register_translation(d1,d2))\n",
    "d2 = ifftn(fourier_shift(fftn(d2), pixel_shift0)) * np.exp(1j * dphi)\n",
    "print(register_translation(d1,d2))\n",
    "\n",
    "d1g, d2g, r, flip, conj, pixel_shift, phase_shift = match2(d1,d2,match_phase_ramp=True, return_params=True)\n",
    "\n",
    "print(flip, conj, pixel_shift, phase_shift)\n",
    "print(register_translation(d1,d2))  # Original arrays are unmodified\n",
    "\n",
    "# Manual correction\n",
    "d2c = flipn(d2, flip)\n",
    "d2c = ifftn(fourier_shift(fftn(d2), pixel_shift))\n",
    "if conj:\n",
    "    d2c = d2c.conj()\n",
    "d2c = corr_phase(phase_shift, d2c)\n",
    "\n",
    "d1g, d2g, r, flip, conj, pixel_shift, phase_shift = match2(d1,d2c,match_phase_ramp=True, return_params=True)\n",
    "print(flip, conj, pixel_shift, phase_shift)  # Should all be zeros\n"
   ]
  },
  {
   "cell_type": "code",
   "execution_count": null,
   "metadata": {},
   "outputs": [],
   "source": []
  }
 ],
 "metadata": {
  "kernelspec": {
   "display_name": "Python 3",
   "language": "python",
   "name": "python3"
  },
  "language_info": {
   "codemirror_mode": {
    "name": "ipython",
    "version": 3
   },
   "file_extension": ".py",
   "mimetype": "text/x-python",
   "name": "python",
   "nbconvert_exporter": "python",
   "pygments_lexer": "ipython3",
   "version": "3.5.5"
  }
 },
 "nbformat": 4,
 "nbformat_minor": 2
}
