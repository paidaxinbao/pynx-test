{
 "cells": [
  {
   "cell_type": "code",
   "execution_count": null,
   "metadata": {},
   "outputs": [],
   "source": [
    "# test itkwidgets - smooth, sometimes 3D plot does not open (some javascript timeout ?)\n",
    "import numpy as np\n",
    "import h5py as h5\n",
    "import itkwidgets\n",
    "from itkwidgets import view\n",
    "import ipywidgets as widgets\n",
    "from IPython.core.display import display, update_display, HTML\n",
    "\n",
    "from pynx.utils.plot_utils import complex2rgbalin\n",
    "\n",
    "display(HTML(\"<style>.container { width:100% !important; }</style>\"))\n"
   ]
  },
  {
   "cell_type": "code",
   "execution_count": null,
   "metadata": {
    "scrolled": true
   },
   "outputs": [],
   "source": [
    "if False:\n",
    "    d = h5.File('/Users/vincent/data/201702-BraggCDI-Pt/alignment_S2280-2019-02-16T17-42-17_LLKf000.153_LLK000.153.cxi')['entry_1/data_1/data'][()]\n",
    "    v = view(abs(d),cmap='jet')\n",
    "    display(v)"
   ]
  },
  {
   "cell_type": "code",
   "execution_count": null,
   "metadata": {
    "scrolled": false
   },
   "outputs": [],
   "source": [
    "class WidgetCDI(widgets.Box):\n",
    "    def __init__(self, cxi_filename):\n",
    "        super(WidgetCDI, self).__init__()\n",
    "        \n",
    "        #focus_label = widgets.Label(value='Focal distance (cm):')\n",
    "        self.gradient_opacity = widgets.FloatSlider(value=0.2, min=0,max=1,step=0.02, description='Opacity grad.',\n",
    "                                                    disabled=False, continuous_update=True, orientation='horizontal',\n",
    "                                                    readout=True, readout_format='.01f')\n",
    "        self.toggle_planes = widgets.ToggleButton(value=False, description='Cut planes', tooltips='Display cut planes')\n",
    "        self.toggle_roi = widgets.ToggleButton(value=False, description='ROI', tooltips='ROI selection')\n",
    "        self.toggle_shadow= widgets.ToggleButton(value=False, description='Shadow', tooltips='Shadow ?')\n",
    "        self.toggle_rotate= widgets.ToggleButton(value=False, description='Rotate', tooltips='Rotate ?')\n",
    "        hbox_toggle = widgets.HBox([self.toggle_planes, self.toggle_roi, self.toggle_shadow, self.toggle_rotate])\n",
    "        \n",
    "        self.toggle_mode = widgets.ToggleButtons(options=['Volume','X','Y','Z'])\n",
    "        \n",
    "        self.vbox = widgets.VBox([self.gradient_opacity, hbox_toggle, self.toggle_mode])\n",
    "\n",
    "        d = h5.File(cxi_filename,mode='r')['entry_1/data_1/data'][()]\n",
    "        d_abs = abs(d)\n",
    "        self.d = d\n",
    "        print(d.shape, abs(d).min(), abs(d).max())\n",
    "        if False:\n",
    "            # try multiple components for the phase ?\n",
    "            nz, ny, nx = d.shape\n",
    "            d2 = np.empty((nz,ny,nx,2),dtype=np.float32)\n",
    "            d2[...,0] = abs(d)\n",
    "            d2[...,1] = np.angle(d)\n",
    "            d = d2\n",
    "        self.output_view = widgets.Output(layout={'border': '1px solid black', 'width':'900px'})\n",
    "        with self.output_view:\n",
    "            self.view = view(d_abs,cmap='jet',ui_collapsed=True, annotations=False)  #  vmin=None, vmax=None\n",
    "            display(self.view)\n",
    "        \n",
    "        self.gradient_opacity.observe(self.update)\n",
    "        self.toggle_planes.observe(self.update)\n",
    "        self.toggle_roi.observe(self.update)\n",
    "        self.toggle_shadow.observe(self.update)\n",
    "        self.toggle_rotate.observe(self.update)\n",
    "        self.toggle_mode.observe(self.update)\n",
    "        \n",
    "        self.hbox = widgets.HBox([self.output_view, self.vbox])\n",
    "        \n",
    "        self.children = [self.hbox]\n",
    "\n",
    "    \n",
    "    def update(self, k=None):\n",
    "        self.view.select_roi = self.toggle_roi.value\n",
    "        self.view.slicing_planes = self.toggle_planes.value\n",
    "        self.view.shadow = self.toggle_shadow.value\n",
    "        self.view.rotate = self.toggle_rotate.value\n",
    "        self.view.gradient_opacity = self.gradient_opacity.value\n",
    "        self.view.mode = self.toggle_mode.value.lower()[0]\n",
    "\n",
    "w = WidgetCDI('/Users/vincent/data/201702-BraggCDI-Pt/alignment_S2280-2019-02-16T17-42-17_LLKf000.153_LLK000.153.cxi')\n",
    "#w = WidgetCDI('/Users/vincent/data/2020-Coccolithes/RetFen4036_cand1_3D-2020-02-04T08-39-44_Run0002_LLKf003.8944_LLK004.0703_SupportThreshold0.11422.cxi')\n",
    "display(w)\n",
    "\n",
    "# Sometimes the cell neeeds to be exacuted several times to actually open the plot. More often on larger datasets ? timeout ?"
   ]
  },
  {
   "cell_type": "code",
   "execution_count": null,
   "metadata": {},
   "outputs": [],
   "source": [
    "# TODO:\n",
    "# test using VTK objects, supplying 'actors' instead of an array as Image\n",
    "# test image labelling using discrete labels and scikit_learn ??\n",
    "# Browser to load over CXI files"
   ]
  },
  {
   "cell_type": "code",
   "execution_count": null,
   "metadata": {},
   "outputs": [],
   "source": []
  }
 ],
 "metadata": {
  "kernelspec": {
   "display_name": "Python 3",
   "language": "python",
   "name": "python3"
  },
  "language_info": {
   "codemirror_mode": {
    "name": "ipython",
    "version": 3
   },
   "file_extension": ".py",
   "mimetype": "text/x-python",
   "name": "python",
   "nbconvert_exporter": "python",
   "pygments_lexer": "ipython3",
   "version": "3.6.12"
  }
 },
 "nbformat": 4,
 "nbformat_minor": 2
}
