{
 "cells": [
  {
   "cell_type": "markdown",
   "metadata": {},
   "source": [
    "### CDI using simulated data and partial coherence\n",
    "In this example a 2D CDI reconstruction is performed on a dataset\n",
    "which presents some partial coherence (using a gaussian filter).\n",
    "\n",
    "This is difficult because:\n",
    "* of the added difficulty of simultaneously finding the object and the point-spread-function (PSF) used to model the partial coherence\n",
    "* of the siemens start structure which has many voids, and thus convergence towards a correct support is complex to achieve\n",
    "\n",
    "So you may need to restart the entire optimisation (from the CDI initialisation) before reaching a correct solution."
   ]
  },
  {
   "cell_type": "code",
   "execution_count": null,
   "metadata": {},
   "outputs": [],
   "source": [
    "# -*- coding: utf-8 -*-\n",
    "\n",
    "# PyNX - Python tools for Nano-structures Crystallography\n",
    "#   (c) 2017-present : ESRF-European Synchrotron Radiation Facility\n",
    "#       authors:\n",
    "#         Vincent Favre-Nicolin, favre@esrf.fr\n",
    "%matplotlib notebook\n",
    "import numpy as np\n",
    "from scipy.fftpack import ifftshift, fftshift, fft2\n",
    "from pynx.utils.pattern import siemens_star\n",
    "from pynx.cdi import *\n",
    "import matplotlib.pyplot as plt\n",
    "from scipy.ndimage.filters import gaussian_filter"
   ]
  },
  {
   "cell_type": "code",
   "execution_count": null,
   "metadata": {},
   "outputs": [],
   "source": [
    "# Test on a simulated pattern (2D)\n",
    "n = 512\n",
    "\n",
    "# Siemens-Star object\n",
    "obj0 = siemens_star(n, nb_rays=12, r_max=60, nb_rings=3)\n",
    "\n",
    "# Simulated iobs\n",
    "iobs = abs(ifftshift(fft2(fftshift(obj0.astype(np.complex64))))) ** 2\n",
    "\n",
    "# Convolve with Gaussian kernel\n",
    "iobs = gaussian_filter(input=iobs, sigma=(0.7,0.7))\n",
    "\n",
    "# Add Poisson noise\n",
    "iobs = np.random.poisson(iobs * 1e10 / iobs.sum())\n",
    "plt.imshow(np.log10(iobs))"
   ]
  },
  {
   "cell_type": "code",
   "execution_count": null,
   "metadata": {
    "scrolled": false
   },
   "outputs": [],
   "source": [
    "# Start from a slightly loose disc support\n",
    "x, y = np.meshgrid(np.arange(-n // 2, n // 2, dtype=np.float32), np.arange(-n // 2, n // 2, dtype=np.float32))\n",
    "r = np.sqrt(x ** 2 + y ** 2)\n",
    "support = r < 65\n",
    "\n",
    "mask = np.zeros_like(iobs, dtype=np.int16)\n",
    "if False:\n",
    "    # Mask some values in the central beam (much more difficult)\n",
    "    print(\"Removing %6.3f%% intensity\" % (iobs[255:257, 255:257].sum() / iobs.sum() * 100))\n",
    "    iobs[255:257, 255:257] = 0\n",
    "    mask[255:257, 255:257] = 1\n",
    "\n",
    "cdi = CDI(fftshift(iobs), obj=None, support=fftshift(support), mask=fftshift(mask), wavelength=1e-10,\n",
    "          pixel_size_detector=55e-10)\n",
    "\n",
    "# Init real object from the chosen support\n",
    "cdi = InitObjRandom(src=\"support\", amin=0, amax=1, phirange=0) * cdi\n",
    "\n",
    "# Initial scaling of the object [ only useful if there are masked pixels !]\n",
    "cdi = ScaleObj(method='F') * cdi"
   ]
  },
  {
   "cell_type": "code",
   "execution_count": null,
   "metadata": {},
   "outputs": [],
   "source": [
    "# Do 100 cycles of RAAR\n",
    "plt.figure()\n",
    "cdi = HIO(positivity=True, calc_llk=50, show_cdi=50) ** 100 * cdi\n",
    "\n",
    "# Compute LLK\n",
    "LLK() * cdi\n",
    "print(\"LLK_n = %8.3f\" % (cdi.get_llk(noise='poisson')))\n",
    "\n",
    "cdi = ShowCDI(fig_num=1) * cdi"
   ]
  },
  {
   "cell_type": "code",
   "execution_count": null,
   "metadata": {},
   "outputs": [],
   "source": [
    "plt.figure()\n",
    "sup = SupportUpdate(threshold_relative=0.4, smooth_width=(2.0, 0.5, 800), force_shrink=False)\n",
    "\n",
    "cdi = (sup * ER(positivity=True, calc_llk=40, show_cdi=40, fig_num=1) ** 5 * \n",
    "       HIO(positivity=True,calc_llk=40, show_cdi=40) ** 40) ** 5 * cdi\n"
   ]
  },
  {
   "cell_type": "code",
   "execution_count": null,
   "metadata": {},
   "outputs": [],
   "source": [
    "# Now Estimate the PSF and update it regularly\n",
    "cdi = InitPSF(model=\"gaussian\", fwhm=0.5) * cdi\n",
    "\n",
    "\n",
    "sup = SupportUpdate(threshold_relative=0.35, smooth_width=(1.0, 0.5, 800), force_shrink=False)\n",
    "er = ER(positivity=True, calc_llk=40, show_cdi=40, fig_num=1, update_psf=20)\n",
    "raar = RAAR(positivity=True, calc_llk=40, show_cdi=40, update_psf=20)\n",
    "hio = HIO(positivity=True, calc_llk=40, show_cdi=40, update_psf=20)\n",
    "\n",
    "plt.figure()\n",
    "cdi = (sup * er ** 5 * hio ** 40) ** 5 * cdi\n"
   ]
  },
  {
   "cell_type": "code",
   "execution_count": null,
   "metadata": {},
   "outputs": [],
   "source": [
    "# Release GPU memory\n",
    "cdi = FreePU() * cdi"
   ]
  },
  {
   "cell_type": "code",
   "execution_count": null,
   "metadata": {},
   "outputs": [],
   "source": []
  },
  {
   "cell_type": "code",
   "execution_count": null,
   "metadata": {},
   "outputs": [],
   "source": []
  }
 ],
 "metadata": {
  "kernelspec": {
   "display_name": "Python 3 (ipykernel)",
   "language": "python",
   "name": "python3"
  },
  "language_info": {
   "codemirror_mode": {
    "name": "ipython",
    "version": 3
   },
   "file_extension": ".py",
   "mimetype": "text/x-python",
   "name": "python",
   "nbconvert_exporter": "python",
   "pygments_lexer": "ipython3",
   "version": "3.8.6"
  }
 },
 "nbformat": 4,
 "nbformat_minor": 2
}
