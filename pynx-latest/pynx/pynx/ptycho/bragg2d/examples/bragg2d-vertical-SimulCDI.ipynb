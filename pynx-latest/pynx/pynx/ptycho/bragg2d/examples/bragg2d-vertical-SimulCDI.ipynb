{
 "cells": [
  {
   "cell_type": "code",
   "execution_count": null,
   "metadata": {},
   "outputs": [],
   "source": [
    "########################################################################\n",
    "#\n",
    "# Use 2D Bragg ptycho code to generate 3D simulated CDI from illuminated vortex structure\n",
    "# Author: Vincent Favre-Nicolin <favre@esrf.fr>\n",
    "#\n",
    "########################################################################\n",
    "import os\n",
    "import timeit\n",
    "import numpy as np\n",
    "\n",
    "%matplotlib notebook\n",
    "import matplotlib.pyplot as plt\n",
    "from matplotlib.colors import LogNorm\n",
    "from ipywidgets import interact, IntSlider\n",
    "\n",
    "# Use only OpenCL - this must be done before PyNX imports\n",
    "os.environ['PYNX_PU']='opencl.p6000'  # Force using OpenCL only (even for Wavefront)\n",
    "\n",
    "from pynx.ptycho.bragg2d import *\n",
    "from pynx.ptycho.bragg.cpu_operator import show_3d\n",
    "from pynx.ptycho.simulation import spiral_archimedes\n",
    "from pynx.wavefront import Wavefront, ImshowRGBA, ImshowAbs, PropagateFarField, PropagateNearField\n",
    "from pynx.utils.plot_utils import complex2rgbalin\n"
   ]
  },
  {
   "cell_type": "code",
   "execution_count": null,
   "metadata": {},
   "outputs": [],
   "source": [
    "# Experiment parameters\n",
    "wavelength = 1.5e-10\n",
    "delta = np.deg2rad(64)\n",
    "eta = delta/2\n",
    "nu = np.deg2rad(0)\n",
    "pixel_size_detector = 55e-6\n",
    "ny, nx = (400, 400)\n",
    "detector_distance = 1\n",
    "\n",
    "# Spiralscan positions - we only need one for this simulation\n",
    "nb = 1\n",
    "\n",
    "xs, ys = spiral_archimedes(80e-9, nb)\n",
    "zs = np.zeros_like(xs)\n",
    "\n",
    "# Rotate positions according to eta (piezo motors in the sample frame are rotated by eta)\n",
    "ce, se = np.cos(eta), np.sin(eta)\n",
    "ys, zs = ce * ys + se * zs, ce * zs - se * ys\n",
    "\n",
    "# Project the positions along z onto the average sample position, to avoid non-centered Psi\n",
    "zs += ys / np.tan(eta)\n",
    "\n",
    "# detector parameters\n",
    "detector = {'rotation_axes': (('x', delta), ('y', nu)), 'pixel_size': pixel_size_detector,\n",
    "            'distance': detector_distance}\n",
    "plt.figure()\n",
    "plt.plot(xs*1e6, ys*1e6, '.')"
   ]
  },
  {
   "cell_type": "code",
   "execution_count": null,
   "metadata": {},
   "outputs": [],
   "source": [
    "# This sets the number of frames which are handled simultaneously during processing.\n",
    "# Larger numbers (up to the total number of frames) are more efficient, but more memory-hungry\n",
    "default_processing_unit.cl_stack_size = 1 # nb\n"
   ]
  },
  {
   "cell_type": "code",
   "execution_count": null,
   "metadata": {},
   "outputs": [],
   "source": [
    "# Create empty data\n",
    "data = Bragg2DPtychoData(iobs=np.empty((nb, ny, nx), dtype=np.float32), positions=(xs, ys, zs), mask=None,\n",
    "                       wavelength=wavelength, detector=detector)"
   ]
  },
  {
   "cell_type": "code",
   "execution_count": null,
   "metadata": {
    "scrolled": false
   },
   "outputs": [],
   "source": [
    "if False:\n",
    "    # Import existing probe from 2D ptycho\n",
    "    d = np.load(\"/Users/favre/Analyse/201606id01-FZP/ResultsScan0013/latest.npz\")\n",
    "    #d = np.load(\"/Users/vincent/Analyse/201606id01-FZP/ResultsScan0000/latest.npz\")\n",
    "    pr = Wavefront(d=np.fft.fftshift(d['probe'],axes=(-2,-1)), z=0, pixel_size=d['pixelsize'], wavelength=wavelength)\n",
    "else:\n",
    "    # Simulate probe from a focused circular aperture, with large defocusing to get a wide beam\n",
    "    pixel_size_focus = wavelength * detector_distance / (nx * pixel_size_detector)\n",
    "    focal_length = 0.09\n",
    "    defocus = 200e-6\n",
    "    radius = 200e-6\n",
    "    pixel_size_aperture = wavelength * focal_length / (nx * pixel_size_focus)\n",
    "    pr = Wavefront(d=np.ones((ny, nx)), wavelength=wavelength, pixel_size=pixel_size_aperture)\n",
    "    x, y = pr.get_x_y()\n",
    "    r = np.sqrt(x**2+y**2)\n",
    "    print(x.min(),x.max(), y.min(), y.max(), wavelength, pixel_size_aperture)\n",
    "    pr.set(r < radius)\n",
    "    pr = PropagateNearField(dz=defocus) * PropagateFarField(focal_length, forward=False) * pr\n",
    "\n",
    "print('Probe pixel size: %6.2fnm'%(pr.pixel_size*1e9))\n",
    "pr = ImshowRGBA()*pr"
   ]
  },
  {
   "cell_type": "code",
   "execution_count": null,
   "metadata": {},
   "outputs": [],
   "source": [
    "# Create main Bragg Ptycho object\n",
    "p = Bragg2DPtycho(probe=pr, data=data, support=None)\n",
    "pxyz = p.voxel_size_object()\n",
    "print(wavelength * detector_distance / (pixel_size_detector*nx)*1e9)\n",
    "print(\"Object voxel size: %6.2fnm x %6.2fnm x %6.2fnm\" % (pxyz[0] * 1e9, pxyz[1] * 1e9, pxyz[2] * 1e9))\n",
    "print(p.m)"
   ]
  },
  {
   "cell_type": "code",
   "execution_count": null,
   "metadata": {
    "scrolled": false
   },
   "outputs": [],
   "source": [
    "# Base parallelepiped object\n",
    "x0, x1, y0, y1, z0, z1 = -1e-6, 1e-6, -200e-9, 200e-9, -1e-6, 1e-6\n",
    "# Create a support. Larger than the object, or not...\n",
    "rs = 1.0\n",
    "# Equation for GPU init of support using Monte-Carlo integration\n",
    "eq = \"(x >= %g) * (x <= %g) * (y >= %g) * (y <= %g) * (z >= %g) * (z <= %g)\" % (rs * x0, rs * x1, rs * y0, rs * y1, rs * z0, rs * z1)\n",
    "print(eq)\n",
    "s = InitSupport(eq, rotation_axes=[('x', eta)], shrink_object_around_support=True)\n",
    "p = s * p\n",
    "print(p.support.sum()/p.support.size)\n",
    "if True:\n",
    "    #plt.figure(figsize=(9,4))\n",
    "    #show_3d(p.support,ortho_m=p.m, rotation=('x', -eta))\n",
    "    plt.figure(figsize=(9,4))\n",
    "    show_3d(p.support,ortho_m=p.m, rotation=None, title='Support-rotation=None')\n",
    "    plt.figure(figsize=(9,4))\n",
    "    show_3d(p.support,ortho_m=p.m, rotation=('x', eta), title='Support-rotated back // to xz plane')\n"
   ]
  },
  {
   "cell_type": "code",
   "execution_count": null,
   "metadata": {
    "scrolled": false
   },
   "outputs": [],
   "source": [
    "obj0 = p.support / 100\n",
    "obj1 = obj0.copy()\n",
    "\n",
    "x,y,z = p.get_xyz(domain='object', rotation=('x', -eta))\n",
    "# Add some strain\n",
    "obj1 = obj0 * np.exp(1j * np.arctan2(z,x) * np.exp(-(x ** 2 + z ** 2) / 0.5e-6 ** 2))\n",
    "\n",
    "p.set_obj(obj1)\n",
    "plt.figure(figsize=(9,4))\n",
    "p = ShowObj(rotation=('x', eta), title='Object (eta=%6.2f°, delta=%6.2f°)' % (np.rad2deg(eta), np.rad2deg(delta))) * p\n",
    "#p = ShowObj(rotation=('x', eta), title='Object rotated back to eta=0') * p\n",
    "print(x0*1e6,x1*1e6,y0*1e6,y1*1e6,z0*1e6,z1*1e6)"
   ]
  },
  {
   "cell_type": "code",
   "execution_count": null,
   "metadata": {},
   "outputs": [],
   "source": [
    "# Compute the pixel coordinate of the center of the object*probe for each frame\n",
    "p = CalcCenterObjProbe() * p\n",
    "#print(p._cl_obs_v[0].cl_cixo, p._cl_obs_v[0].cl_ciyo)"
   ]
  },
  {
   "cell_type": "code",
   "execution_count": null,
   "metadata": {},
   "outputs": [],
   "source": [
    "# This will calculate the Object*Probe 3D array\n",
    "p = ObjProbe2PsiDebug(npsi=1, calc_3d=True) * p\n",
    "\n",
    "# Display calculated Psi before propagation to the detector\n",
    "plt.figure(figsize=(9,5))\n",
    "show_3d(p._psi3d[0,0,0],ortho_m=p.m, rotation=('x', eta), title='Obj*Probe')"
   ]
  },
  {
   "cell_type": "code",
   "execution_count": null,
   "metadata": {},
   "outputs": [],
   "source": [
    "# Compute the 3D CDI diffracted intensity from the Obj*probe object, and save it\n",
    "icalc_cdi = abs(np.fft.fftshift(np.fft.fftn(p._psi3d[0,0,0])))**2\n",
    "\n",
    "# Fix total number of photons and apply poisson noise\n",
    "icalc_cdi = np.random.poisson(icalc_cdi * 1e9 / icalc_cdi.sum())\n",
    "print(icalc_cdi.shape)\n",
    "np.savez_compressed('cdi_vortex_simulated.npz', iobs= icalc_cdi)"
   ]
  },
  {
   "cell_type": "code",
   "execution_count": null,
   "metadata": {},
   "outputs": [],
   "source": [
    "# Look at the simulated data:\n",
    "plt.figure(figsize=(9,4))\n",
    "vmax = icalc_cdi.max()\n",
    "def plot_obs_calc(i):\n",
    "    plt.clf()\n",
    "    plt.imshow(icalc_cdi[i],origin='lower', norm=LogNorm(vmin=1, vmax=vmax))\n",
    "    plt.colorbar()\n",
    "\n",
    "interact(plot_obs_calc, i=IntSlider(min=0,max=len(icalc_cdi)-1,step=1,value=len(icalc_cdi)//2))"
   ]
  },
  {
   "cell_type": "code",
   "execution_count": null,
   "metadata": {},
   "outputs": [],
   "source": [
    "# Solve this CDI from the command line using e.g.:\n",
    "#pynx-id01cdi.py data=cdi_vortex_simulated.npz support_threshold_method=max support_threshold=0.05,0.12 nb_run=20 nb_run_keep=4\n"
   ]
  }
 ],
 "metadata": {
  "kernelspec": {
   "display_name": "Python 3",
   "language": "python",
   "name": "python3"
  },
  "language_info": {
   "codemirror_mode": {
    "name": "ipython",
    "version": 3
   },
   "file_extension": ".py",
   "mimetype": "text/x-python",
   "name": "python",
   "nbconvert_exporter": "python",
   "pygments_lexer": "ipython3",
   "version": "3.5.3"
  }
 },
 "nbformat": 4,
 "nbformat_minor": 2
}
