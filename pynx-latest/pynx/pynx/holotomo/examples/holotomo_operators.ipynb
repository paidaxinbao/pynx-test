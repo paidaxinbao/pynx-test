{
 "cells": [
  {
   "cell_type": "markdown",
   "metadata": {},
   "source": [
    "### Example of using holotomo operators using simulated data\n",
    "Support for holo-tomography is still in development. This notebook can be used to experiment with different configurations (single or multiple distances, etc...)\n",
    "\n",
    "You need the `xraydb` package for the initial simulation"
   ]
  },
  {
   "cell_type": "code",
   "execution_count": null,
   "metadata": {},
   "outputs": [],
   "source": [
    "# -*- coding: utf-8 -*-\n",
    "\n",
    "# PyNX - Python tools for Nano-structures Crystallography\n",
    "#   (c) 2019-present : ESRF-European Synchrotron Radiation Facility\n",
    "#       authors:\n",
    "#         Vincent Favre-Nicolin, favre@esrf.fr\n",
    "%matplotlib notebook\n",
    "import os\n",
    "import numpy as np\n",
    "import matplotlib.pyplot as plt\n",
    "from matplotlib.colors import LogNorm\n",
    "from scipy.fftpack import fftshift\n",
    "import imageio\n",
    "from skimage.data import shepp_logan_phantom, coins, immunohistochemistry, microaneurysms, retina\n",
    "import xraydb\n",
    "from pynx.holotomo import *\n",
    "from pynx.holotomo.utils import simulate_probe\n",
    "from pynx.wavefront import Wavefront\n",
    "from pynx.wavefront import operator as wop\n",
    "from pynx.test.speed import SpeedTest\n",
    "\n",
    "from IPython.core.display import display, HTML\n",
    "display(HTML(\"<style>.container { width:100% !important; }</style>\"))"
   ]
  },
  {
   "cell_type": "code",
   "execution_count": null,
   "metadata": {},
   "outputs": [],
   "source": [
    "# Basic parameters\n",
    "nrj_ev = 30000\n",
    "wavelength=12398.4e-10/nrj_ev\n",
    "material , density = xraydb.get_material('Fe')\n",
    "delta,beta, atten = xraydb.xray_delta_beta(material, density, nrj_ev)\n",
    "print(\"%15s: delta=%6e  beta=%6e  delta/beta=%6.1f\"%(material, delta, beta, delta/beta))\n",
    "thickness = 1e-6\n",
    "pixel_size = 50e-9\n",
    "ny, nx = 512, 512\n",
    "nb_proj = 24\n",
    "stack_size = 3\n",
    "nz = 4  # Number of distances\n",
    "dz = 0.03  # Base distance\n",
    "vz = dz * 1.04 **(np.arange(nz)*3)\n",
    "print(vz)"
   ]
  },
  {
   "cell_type": "code",
   "execution_count": null,
   "metadata": {},
   "outputs": [],
   "source": [
    "# Distances formula from Zabler 2005 article \n",
    "ps = 0.1 #pixel_size*1e6\n",
    "print(ps)\n",
    "print(38.4* ps**2 + 0.4 *ps-0.12)\n",
    "print(((38.4 * ps**2 + 0.4 *ps-0.12)*np.array([1,2,5,6])-9.84 * ps + 4.67)*1e-3/(wavelength*1e10))"
   ]
  },
  {
   "cell_type": "code",
   "execution_count": null,
   "metadata": {},
   "outputs": [],
   "source": [
    "# Simulate probe (propagation distances)\n",
    "probe0 = simulate_probe((ny,nx), np.ones(nz)*0.2, nb_line_h=10, nb_line_v=10,\n",
    "                        pixel_size=pixel_size, wavelength=wavelength, amplitude=2)\n",
    "probe0 = probe0.reshape((nz, 1, ny, nx))\n",
    "plt.figure(figsize=(10,2))\n",
    "for i in range(nz):\n",
    "    plt.subplot(1,nz,i+1)\n",
    "    plt.imshow(np.angle(probe0[i,0]),cmap='gray')\n",
    "    plt.colorbar()\n",
    "plt.tight_layout()"
   ]
  },
  {
   "cell_type": "code",
   "execution_count": null,
   "metadata": {},
   "outputs": [],
   "source": [
    "# Create object from skimage examples\n",
    "k = 2*np.pi/wavelength\n",
    "mu = 2 * k * beta\n",
    "print(mu*thickness, k*delta*thickness)\n",
    "obj0 = np.empty((nb_proj, 512, 512), dtype=np.complex64)\n",
    "\n",
    "img_src = [shepp_logan_phantom, immunohistochemistry, retina, coins]\n",
    "\n",
    "obj0 = np.zeros((nb_proj, ny, nx), dtype=np.complex64)\n",
    "i, ct = 0, 0\n",
    "while ct < nb_proj:\n",
    "    img = img_src[i]()\n",
    "    if img.ndim == 2:\n",
    "        img = img[..., np.newaxis]\n",
    "    for j in range(img.shape[-1]):\n",
    "        d = img[:,:,j]\n",
    "        if d.shape[0] > ny:\n",
    "            d = d[:ny]\n",
    "        if d.shape[1] > nx:\n",
    "            d = d[:, :nx]\n",
    "        ny1, nx1 = d.shape\n",
    "        obj0[ct,:ny1,:nx1] = d / d.max()\n",
    "        \n",
    "        if ny1 < ny:\n",
    "            obj0[ct] = np.roll(obj0[ct],(ny-ny1)//2, axis=0)\n",
    "        if nx1 < nx:\n",
    "            obj0[ct] = np.roll(obj0[ct],(nx-nx1)//2, axis=1)\n",
    "        ct += 1\n",
    "        if ct == nb_proj:\n",
    "            break\n",
    "    i = (i+1) % len(img_src)\n",
    "\n",
    "for i in range(0, nb_proj-1):\n",
    "    obj0[i] = np.exp(-k * (-1j * delta + beta) * thickness * obj0[i])\n",
    "\n",
    "# last projection is without an object (empty beam)\n",
    "obj0[-1] = 1\n",
    "\n",
    "nb_mode = 1\n",
    "obj0 = np.reshape(obj0, (nb_proj, nb_mode, ny, nx))\n",
    "\n",
    "# Last frames are without sample\n",
    "sample_flag = np.ones(nb_proj, dtype=np.bool)\n",
    "sample_flag[-1] = False"
   ]
  },
  {
   "cell_type": "code",
   "execution_count": null,
   "metadata": {},
   "outputs": [],
   "source": [
    "print(obj0.shape)\n",
    "if True:\n",
    "    i = 0\n",
    "    plt.figure(figsize=(9,4))\n",
    "    plt.subplot(121)\n",
    "    plt.imshow(np.angle(obj0[i,0]), cmap='gray')\n",
    "    plt.colorbar()\n",
    "    plt.subplot(122)\n",
    "    plt.imshow(np.abs(obj0[i,0]), cmap='gray')\n",
    "    plt.colorbar()"
   ]
  },
  {
   "cell_type": "code",
   "execution_count": null,
   "metadata": {},
   "outputs": [],
   "source": [
    "iobs = np.ones((nb_proj, nz, ny, nx), dtype=np.float32)\n",
    "\n",
    "# Display last propagated wavefront ?\n",
    "# w = wop.ImshowAbs() * w\n",
    "\n",
    "# test displacements\n",
    "dx = None  #np.random.uniform(2,5,(nb_proj, nz))\n",
    "#dx[:,0] = 0\n",
    "dy = None  #np.random.uniform(2,5,(nb_proj, nz))\n",
    "#dy[:,0] = 0\n",
    "\n",
    "# Create HoloTomoData\n",
    "data = HoloTomoData(iobs, pixel_size_detector=pixel_size, wavelength=wavelength, detector_distance=vz,\n",
    "               stack_size=stack_size, dx=dx, dy=dy, sample_flag=sample_flag)\n"
   ]
  },
  {
   "cell_type": "code",
   "execution_count": null,
   "metadata": {},
   "outputs": [],
   "source": [
    "# Create PCI object\n",
    "p = HoloTomo(data=data, obj=obj0.copy(), probe=probe0)\n",
    "\n",
    "plt.figure(figsize=(9.5,3))\n",
    "p = ShowObj(fig_num=-1, istack=0, type='phase') * p\n",
    "# p = LoopStack(ShowObj(i=None), out=False) *p  # Look at objects\n",
    "\n",
    "plt.figure(figsize=(9.5,5))\n",
    "p = ShowPsi(fig_num=-1, iproj=None, iz=None, type='amplitude') * PropagateNearField1() * ObjProbe2Psi1() * SwapStack(0) * p\n"
   ]
  },
  {
   "cell_type": "code",
   "execution_count": null,
   "metadata": {},
   "outputs": [],
   "source": [
    "# Copy calculated intensity to obs\n",
    "p = Calc2Obs(poisson_noise=True, nb_photon=1e4) * p\n",
    "if True:\n",
    "    p = PropagateNearField1() * ObjProbe2Psi1() * SwapStack(0) * p\n",
    "    ps = np.fft.fftshift((abs(p._cu_stack.psi.get())**2).sum(axis=(2,3)), axes=(-1,-2))\n",
    "    plt.figure(figsize=(10,6))\n",
    "    istack = 0\n",
    "    for iproj in range(p.data.stack_size):\n",
    "        for iz in range(p.data.nz):\n",
    "            plt.subplot(p.data.stack_size, p.data.nz, iz + p.data.nz * iproj + 1)\n",
    "            plt.imshow(p.data.stack_v[istack].iobs[iproj,iz], cmap='gray')\n",
    "            plt.colorbar()\n",
    "    plt.tight_layout()\n",
    "    \n",
    "    plt.figure(figsize=(10,6))\n",
    "    istack = 0\n",
    "    for iproj in range(p.data.stack_size):\n",
    "        for iz in range(p.data.nz):\n",
    "            plt.subplot(p.data.stack_size, p.data.nz, iz + p.data.nz * iproj + 1)\n",
    "            plt.imshow(ps[iproj,iz], cmap='gray')\n",
    "            plt.colorbar()\n",
    "    plt.tight_layout()"
   ]
  },
  {
   "cell_type": "code",
   "execution_count": null,
   "metadata": {},
   "outputs": [],
   "source": [
    "if False:\n",
    "    # Run speed tests\n",
    "    p = TestParallelFFT(n_iter=10, n_stack=10, n_fft=3) * p"
   ]
  },
  {
   "cell_type": "code",
   "execution_count": null,
   "metadata": {},
   "outputs": [],
   "source": [
    "if False:\n",
    "    #p = PropagateNearField1() * ObjProbe2Psi1() * SwapStack(0) * p\n",
    "    p = PropagateApplyAmplitude1() * ObjProbe2Psi1() * SwapStack(0) * p\n",
    "    #p = ApplyAmplitude1() * PropagateNearField1() * ObjProbe2Psi1() * SwapStack(0) * p\n",
    "    plt.figure(figsize=(10,5))\n",
    "    p = ShowPsi(iproj=None,iz=None, fig_num=-1, type='phase') * p"
   ]
  },
  {
   "cell_type": "code",
   "execution_count": null,
   "metadata": {},
   "outputs": [],
   "source": [
    "if True:\n",
    "    # Paganin reconstruction\n",
    "    p = BackPropagatePaganin(delta_beta=delta/beta, alpha=0.0) * p\n",
    "    plt.figure(figsize=(16,3))\n",
    "    p = ShowObj(fig_num=-1, istack=0, type='phase') * p"
   ]
  },
  {
   "cell_type": "code",
   "execution_count": null,
   "metadata": {
    "scrolled": false
   },
   "outputs": [],
   "source": [
    "# You can start with a CTF instead of a Paganin projection - CTF is better for weak phase objects, Paganin for thick ones\n",
    "# The CTF also works better with multi-distance datasets\n",
    "if True:\n",
    "    # Forget positions ?\n",
    "    #p.set_positions(np.zeros((nb_proj, nz)), np.zeros((nb_proj, nz)))\n",
    "    # CTF reconstruction\n",
    "    p = BackPropagateCTF(alpha=0.2,alpha_low=1e-5, delta_beta=delta/beta) * p\n",
    "    plt.figure(figsize=(16,3))\n",
    "    p = ShowObj(fig_num=-1, istack=0, type='phase') * p"
   ]
  },
  {
   "cell_type": "code",
   "execution_count": null,
   "metadata": {},
   "outputs": [],
   "source": [
    "# Iterative reconstruction, with different algorithms, with or without delta/beta constraint\n",
    "\n",
    "# Forget positions ?\n",
    "# p.set_positions(np.zeros((nb_proj, nz)), np.zeros((nb_proj, nz)))\n",
    "\n",
    "if False:\n",
    "    p.set_probe(np.ones_like(p._probe))\n",
    "    # p.set_obj(np.ones((nb_proj, ny, nx)))\n",
    "    p.set_obj(np.random.uniform(0.95, 1, (nb_proj, ny, nx)) * np.exp(1j*np.random.uniform(0., 1, (nb_proj, ny, nx))))\n",
    "    p = ScaleObjProbe(verbose=True) * p\n",
    "\n",
    "#p = DM(update_probe=True, obj_min=None, obj_max=None, calc_llk=50, reg_obj_smooth=0.5,\n",
    "#       delta_beta=delta/beta)**200 * p\n",
    "#p = DM(update_probe=True, obj_min=None, obj_max=None, calc_llk=50, reg_obj_smooth=0.,\n",
    "#      delta_beta=delta/beta)**100 * p\n",
    "p = AP(update_probe=True, obj_min=None, obj_max=None, calc_llk=50, reg_obj_smooth=0.1,\n",
    "       delta_beta=None, weight_empty=10)**200 * p\n",
    "# p = AP(update_probe=True, obj_min=None, obj_max=None, calc_llk=50, reg_obj_smooth=0.1, # update positions ?\n",
    "#         delta_beta=None, update_pos=5, pos_history=True)**400 * p\n",
    "plt.figure(figsize=(10,2))\n",
    "p = ShowObj(fig_num=-1, istack=0, type='phase') * p\n"
   ]
  },
  {
   "cell_type": "code",
   "execution_count": null,
   "metadata": {},
   "outputs": [],
   "source": [
    "plt.figure(figsize=(9,2))\n",
    "p = ShowObj(fig_num=-1, istack=0, type='phase') * p\n",
    "plt.figure(figsize=(9,2))\n",
    "p = ShowObj(fig_num=-1, istack=0, type='amplitude') * p\n"
   ]
  },
  {
   "cell_type": "code",
   "execution_count": null,
   "metadata": {},
   "outputs": [],
   "source": [
    "if False:\n",
    "    # modify the shifts and try to find them back\n",
    "    dx, dy = p._cu_dx.get(), p._cu_dy.get()\n",
    "    for iproj in range(p.data.nproj):\n",
    "        for iz in range(p.data.nz):\n",
    "            dx [iproj, iz] = iz\n",
    "            dy [iproj, iz] = (iz + iproj) * (iz > 0)\n",
    "    p._cu_dx = cua.to_gpu(dx)\n",
    "    p._cu_dy = cua.to_gpu(dy)\n",
    "    with np.printoptions(precision=2, suppress=True, threshold=1000, floatmode='fixed', linewidth=200):\n",
    "        print(p._cu_dx.get()[:-1].transpose())\n",
    "        print(p._cu_dy.get()[:-1].transpose())\n",
    "\n",
    "    p = (Psi2ProbeMerge() *LoopStack(Psi2PosReg1(upsampling=8, save_position_history=True) *\n",
    "                                     Psi2ObjProbe1(delta_beta=-1) * PropagateApplyAmplitude1() * ObjProbe2Psi1()))**20 * p\n",
    "\n",
    "    with np.printoptions(precision=2, suppress=True, threshold=1000, floatmode='fixed', linewidth=200):\n",
    "        print()\n",
    "        print(p._cu_dx.get()[:-1].transpose())\n",
    "        print(p._cu_dy.get()[:-1].transpose())\n"
   ]
  },
  {
   "cell_type": "code",
   "execution_count": null,
   "metadata": {},
   "outputs": [],
   "source": [
    "if False:\n",
    "    # Plot the history of positions\n",
    "    p._from_pu()\n",
    "    vproj = range(0,24,4)\n",
    "    fig = plt.figure(figsize=(16,2.5*len(vproj)))\n",
    "    #ax = plt.axes((0.04,0.3,0.22,0.3))\n",
    "    plt.subplot(441)\n",
    "    #for i in range(default_processing_unit.get_stack_size()):\n",
    "    for i in range(len(vproj)):\n",
    "        iproj = vproj[i]\n",
    "        plt.subplot(len(vproj), p.data.nz+1, (nz+1) * i +1)\n",
    "        plt.title(\"Proj #%d\"%iproj)\n",
    "        plt.imshow(np.angle(p.data.stack_v[iproj // p.data.stack_size].obj[iproj % p.data.stack_size, 0]), cmap='gray')\n",
    "        for iz in range(nz):\n",
    "            plt.subplot(len(vproj), p.data.nz+1, (nz+1) * i +1 + iz +1)\n",
    "            x = [v[1][iz] for v in p.position_history[iproj]]\n",
    "            y = [v[2][iz] for v in p.position_history[iproj]]\n",
    "            # plt.plot(x,y)\n",
    "            plt.plot(x,'b.')\n",
    "            plt.plot(y,'r.')\n",
    "\n",
    "    plt.tight_layout()"
   ]
  },
  {
   "cell_type": "code",
   "execution_count": null,
   "metadata": {},
   "outputs": [],
   "source": []
  }
 ],
 "metadata": {
  "kernelspec": {
   "display_name": "Python 3 (ipykernel)",
   "language": "python",
   "name": "python3"
  },
  "language_info": {
   "codemirror_mode": {
    "name": "ipython",
    "version": 3
   },
   "file_extension": ".py",
   "mimetype": "text/x-python",
   "name": "python",
   "nbconvert_exporter": "python",
   "pygments_lexer": "ipython3",
   "version": "3.8.6"
  }
 },
 "nbformat": 4,
 "nbformat_minor": 4
}
