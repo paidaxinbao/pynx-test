{
 "cells": [
  {
   "cell_type": "code",
   "execution_count": null,
   "metadata": {},
   "outputs": [],
   "source": [
    "import os\n",
    "import numpy as np\n",
    "import pyopencl as cl\n",
    "import pyopencl.array as cla\n",
    "from pyopencl.elementwise import ElementwiseKernel as CL_ElK\n",
    "\n",
    "from pynx.processing_unit.cl_processing_unit import CLProcessingUnit\n",
    "from pynx.processing_unit.kernel_source import get_kernel_source as getks\n",
    "pu = CLProcessingUnit()\n",
    "pu.select_gpu(language='opencl')\n",
    "pu.init_cl(gpu_name='Iris')"
   ]
  },
  {
   "cell_type": "code",
   "execution_count": null,
   "metadata": {},
   "outputs": [],
   "source": [
    "nb =1000"
   ]
  },
  {
   "cell_type": "code",
   "execution_count": null,
   "metadata": {
    "scrolled": false
   },
   "outputs": [],
   "source": [
    "a = np.zeros(nb, dtype=np.float32)\n",
    "cl_a = cla.to_device(pu.cl_queue, a)\n",
    "\n",
    "k = CL_ElK(pu.cl_ctx, name='test_atomic_add_float', operation=\"atomic_add_f(a, 1.0f)\",\n",
    "           preamble=getks('opencl/complex.cl'), options= \"-cl-mad-enable -cl-fast-relaxed-math\",\n",
    "           arguments=\"__global float* a\")\n",
    "k(cl_a)\n",
    "print(cl_a.get()[0])\n",
    "print(cl_a.get()[0] == nb)"
   ]
  },
  {
   "cell_type": "code",
   "execution_count": null,
   "metadata": {},
   "outputs": [],
   "source": [
    "a = np.zeros(nb, dtype=np.complex64)\n",
    "cl_a = cla.to_device(pu.cl_queue, a)\n",
    "\n",
    "k = CL_ElK(pu.cl_ctx, name='test_atomic_add_complex', operation=\"atomic_add_c(a, (float2)(1.0f, -1.123f))\",\n",
    "           preamble=getks('opencl/complex.cl'), options= \"-cl-mad-enable -cl-fast-relaxed-math\",\n",
    "           arguments=\"__global float2* a\")\n",
    "k(cl_a)\n",
    "print(cl_a.get()[0])\n",
    "print(np.isclose(cl_a.get()[0], nb * (1 - 1.123j)))"
   ]
  },
  {
   "cell_type": "code",
   "execution_count": null,
   "metadata": {},
   "outputs": [],
   "source": []
  }
 ],
 "metadata": {
  "kernelspec": {
   "display_name": "Python 3",
   "language": "python",
   "name": "python3"
  },
  "language_info": {
   "codemirror_mode": {
    "name": "ipython",
    "version": 3
   },
   "file_extension": ".py",
   "mimetype": "text/x-python",
   "name": "python",
   "nbconvert_exporter": "python",
   "pygments_lexer": "ipython3",
   "version": "3.5.5"
  }
 },
 "nbformat": 4,
 "nbformat_minor": 2
}
