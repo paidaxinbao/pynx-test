{
 "cells": [
  {
   "cell_type": "code",
   "execution_count": 1,
   "metadata": {
    "scrolled": false
   },
   "outputs": [
    {
     "data": {
      "text/html": [
       "<style>.container { width:70% !important; }</style>"
      ],
      "text/plain": [
       "<IPython.core.display.HTML object>"
      ]
     },
     "metadata": {},
     "output_type": "display_data"
    },
    {
     "data": {
      "application/vnd.jupyter.widget-view+json": {
       "model_id": "4d47569536894519ae90393b933b5614",
       "version_major": 2,
       "version_minor": 0
      },
      "text/plain": [
       "CDIViewer(children=(HBox(children=(Output(), VBox(children=(FloatSlider(value=330.0578918457031, description='…"
      ]
     },
     "metadata": {},
     "output_type": "display_data"
    }
   ],
   "source": [
    "from pynx.cdi.widgets import CDIViewer\n",
    "#w = CDIViewer('/Users/vincent/data/', html_width=70)\n",
    "#w = CDIViewer('/Users/vincent/data/201702-BraggCDI-Pt/modes.h5')\n",
    "w = CDIViewer('/Users/vincent/data/2020-Coccolithes/RetFen4036_cand1_3D-2020-02-04T08-39-44_Run0002_LLKf003.8944_LLK004.0703_SupportThreshold0.11422.cxi', 70)\n",
    "display(w)\n",
    "\n"
   ]
  },
  {
   "cell_type": "code",
   "execution_count": 2,
   "metadata": {},
   "outputs": [],
   "source": [
    "# TODO: Volume view (instead of isosurface), mesh transparency, phase gradient"
   ]
  },
  {
   "cell_type": "code",
   "execution_count": null,
   "metadata": {},
   "outputs": [],
   "source": []
  }
 ],
 "metadata": {
  "kernelspec": {
   "display_name": "Python 3",
   "language": "python",
   "name": "python3"
  },
  "language_info": {
   "codemirror_mode": {
    "name": "ipython",
    "version": 3
   },
   "file_extension": ".py",
   "mimetype": "text/x-python",
   "name": "python",
   "nbconvert_exporter": "python",
   "pygments_lexer": "ipython3",
   "version": "3.6.12"
  }
 },
 "nbformat": 4,
 "nbformat_minor": 2
}
