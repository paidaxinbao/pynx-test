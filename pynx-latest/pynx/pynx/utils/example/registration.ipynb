{
 "cells": [
  {
   "cell_type": "code",
   "execution_count": null,
   "metadata": {},
   "outputs": [],
   "source": [
    "%matplotlib notebook\n",
    "import matplotlib.pyplot as plt\n",
    "from matplotlib.colors import LogNorm\n",
    "import numpy as np\n",
    "from scipy.misc import ascent\n",
    "from scipy.fftpack import fftn, ifftn, fftshift, fftfreq\n",
    "from scipy.ndimage import fourier_shift\n",
    "from skimage.registration import phase_cross_correlation as register_translation\n",
    "import pycuda.gpuarray as cua\n",
    "from pynx.processing_unit.cu_processing_unit import CUProcessingUnit\n",
    "from pynx.utils.registration import register_translation_cuda, register_translation_cuda_n\n"
   ]
  },
  {
   "cell_type": "code",
   "execution_count": null,
   "metadata": {
    "scrolled": false
   },
   "outputs": [],
   "source": [
    "# Scikit-cuda registration\n",
    "pixel_shift = (5.3,21.2)\n",
    "upsample_factor=10\n",
    "\n",
    "d1 = ascent()[:512,:512]\n",
    "d2 = abs(ifftn(fourier_shift(fftn(d1), pixel_shift)))\n",
    "\n",
    "plt.figure(figsize=(12,3))\n",
    "plt.subplot(121)\n",
    "plt.imshow(d1)\n",
    "plt.subplot(122)\n",
    "plt.imshow(d2)\n",
    "\n",
    "print(register_translation(d1,d2, upsample_factor=upsample_factor))\n",
    "print(register_translation_cuda(d1, d2, upsampling=10))\n"
   ]
  },
  {
   "cell_type": "code",
   "execution_count": null,
   "metadata": {
    "scrolled": false
   },
   "outputs": [],
   "source": [
    "n = 512\n",
    "upsample_factor=10\n",
    "\n",
    "d1 = np.random.uniform(0,1, (n,n))\n",
    "d2 = abs(ifftn(fourier_shift(fftn(d1), pixel_shift)))\n",
    "# Timing, using on-GPU images\n",
    "pu = CUProcessingUnit()\n",
    "pu.init_cuda(test_fft=False, verbose=False)\n",
    "d1cu = cua.to_gpu(d1.astype(np.complex64))\n",
    "d2cu = cua.to_gpu(d2.astype(np.complex64))\n",
    "\n",
    "%timeit -n 3 -r 3 register_translation(d1,d2, upsample_factor=1)\n",
    "%timeit -n 3 -r 3 register_translation_cuda(d1cu, d2cu, upsampling=1, processing_unit=pu, overwrite=False)\n",
    "\n",
    "%timeit -n 3 -r 3 register_translation(d1,d2, upsample_factor=upsample_factor)\n",
    "%timeit -n 3 -r 3 register_translation_cuda(d1cu, d2cu, upsampling=upsample_factor, processing_unit=pu, overwrite=False)\n",
    "print()\n",
    "%timeit -n 3 -r 3 register_translation_cuda(d1cu, d2cu, upsampling=upsample_factor, blocksize=8, processing_unit=pu, overwrite=False)\n",
    "%timeit -n 3 -r 3 register_translation_cuda(d1cu, d2cu, upsampling=upsample_factor, blocksize=16, processing_unit=pu, overwrite=False)\n",
    "%timeit -n 3 -r 3 register_translation_cuda(d1cu, d2cu, upsampling=upsample_factor, blocksize=32, processing_unit=pu, overwrite=False)\n",
    "%timeit -n 3 -r 3 register_translation_cuda(d1cu, d2cu, upsampling=upsample_factor, blocksize=64, processing_unit=pu, overwrite=False)\n"
   ]
  },
  {
   "cell_type": "code",
   "execution_count": null,
   "metadata": {
    "scrolled": false
   },
   "outputs": [],
   "source": [
    "# Aligning a stack of images\n",
    "n = 512\n",
    "nz = 100  # Ideally >= number of SM on GPU\n",
    "upsample_factor=10\n",
    "dy, dx = [], []\n",
    "\n",
    "d1 = np.random.uniform(0,1, (n,n))\n",
    "d2 = np.empty((nz, n,n), dtype=np.float32)\n",
    "for i in range(nz):\n",
    "    dy.append(np.random.uniform(-30,30))\n",
    "    dx.append(np.random.uniform(-30,30))\n",
    "    d2[i] = abs(ifftn(fourier_shift(fftn(d1), [dy[-1], dx[-1]])))\n",
    "\n",
    "\n",
    "pu = CUProcessingUnit()\n",
    "pu.init_cuda(test_fft=False, verbose=False)\n",
    "d1cu = cua.to_gpu(d1.astype(np.complex64))\n",
    "d2cu = cua.to_gpu(d2.astype(np.complex64))\n",
    "\n",
    "tmp = register_translation_cuda(d1cu, d2cu[0], upsampling=upsample_factor, processing_unit=pu,\n",
    "                                overwrite=False)\n",
    "tmp = register_translation_cuda(d1cu, d2cu[nz-1], upsampling=upsample_factor, processing_unit=pu, overwrite=False)\n",
    "vy0, vx0 = register_translation_cuda_n(d1cu, d2cu, upsampling=1, processing_unit=pu, overwrite=False)\n",
    "vy, vx = register_translation_cuda_n(d1cu, d2cu, upsampling=upsample_factor, processing_unit=pu, overwrite=False)\n",
    "\n",
    "for i in range(nz):\n",
    "    print(\"%6.2f  %6.2f  %6.2f   %6.2f %6.2f  %6.2f\" % (-dy[i], vy0[i], vy[i], -dx[i], vx0[i], vx[i]))\n",
    "\n",
    "s = 10\n",
    "s2 = 20\n",
    "t0 = %timeit -n 3 -r 3 -o register_translation(d1,d2[0], upsample_factor=1)\n",
    "t0s = %timeit -n 3 -r 3 -o register_translation(d1,d2[0], upsample_factor=s)\n",
    "t1 = %timeit -n 3 -r 3 -o vy, vx = register_translation_cuda(d1cu, d2cu[0], upsampling=1, processing_unit=pu, overwrite=False)\n",
    "t1s = %timeit -n 3 -r 3 -o vy, vx = register_translation_cuda(d1cu, d2cu[0], upsampling=s, processing_unit=pu, overwrite=False)\n",
    "t1n = %timeit -n 3 -r 3 -o vy, vx = register_translation_cuda_n(d1cu, d2cu, upsampling=1, processing_unit=pu, overwrite=False)\n",
    "t1ns = %timeit -n 3 -r 3 -o vy, vx = register_translation_cuda_n(d1cu, d2cu, upsampling=s, processing_unit=pu, overwrite=False)\n",
    "\n",
    "t0s2 = %timeit -n 3 -r 3 -o register_translation(d1,d2[0], upsample_factor=s2)\n",
    "t1s2 = %timeit -n 3 -r 3 -o vy, vx = register_translation_cuda(d1cu, d2cu[0], upsampling=s2, processing_unit=pu, overwrite=False)\n",
    "t1ns2 = %timeit -n 3 -r 3 -o vy, vx = register_translation_cuda_n(d1cu, d2cu, upsampling=s2, processing_unit=pu, overwrite=False)\n",
    "\n",
    "print(\"\\nRegistration time per image (cuda corresponds to on-GPU data, no transfer)\")\n",
    "print(\"                        skimage     cuda       cuda\")\n",
    "print(\"dt [upsampling=  1]    %6.2fms   %6.2fms  %6.2fms\"%(t0.average*1000, t1.average*1000, t1n.average*1000/nz))\n",
    "print(\"dt [upsampling=%3d]    %6.2fms   %6.2fms  %6.2fms\"%(s, t0s.average*1000, t1s.average*1000, t1ns.average*1000/nz))\n",
    "print(\"dt [upsampling=%3d]    %6.2fms   %6.2fms  %6.2fms\"%(s2, t0s2.average*1000, t1s2.average*1000, t1ns2.average*1000/nz))\n"
   ]
  },
  {
   "cell_type": "code",
   "execution_count": null,
   "metadata": {},
   "outputs": [],
   "source": [
    "# Effect of blocksize for a stack of images\n",
    "nz2 = 30\n",
    "%timeit -n 3 -r 3 vy, vx = register_translation_cuda_n(d1cu, d2cu[:nz2], upsampling=10,blocksize=16, processing_unit=pu, overwrite=False)\n",
    "%timeit -n 3 -r 3 vy, vx = register_translation_cuda_n(d1cu, d2cu[:nz2], upsampling=10,blocksize=32, processing_unit=pu, overwrite=False)\n",
    "%timeit -n 3 -r 3 vy, vx = register_translation_cuda_n(d1cu, d2cu[:nz2], upsampling=10,blocksize=64, processing_unit=pu, overwrite=False)\n",
    "%timeit -n 3 -r 3 vy, vx = register_translation_cuda_n(d1cu, d2cu[:nz2], upsampling=10,blocksize=100, processing_unit=pu, overwrite=False)\n",
    "%timeit -n 3 -r 3 vy, vx = register_translation_cuda_n(d1cu, d2cu[:nz2], upsampling=10,blocksize=200, processing_unit=pu, overwrite=False)\n"
   ]
  },
  {
   "cell_type": "code",
   "execution_count": null,
   "metadata": {},
   "outputs": [],
   "source": []
  }
 ],
 "metadata": {
  "kernelspec": {
   "display_name": "Python 3",
   "language": "python",
   "name": "python3"
  },
  "language_info": {
   "codemirror_mode": {
    "name": "ipython",
    "version": 3
   },
   "file_extension": ".py",
   "mimetype": "text/x-python",
   "name": "python",
   "nbconvert_exporter": "python",
   "pygments_lexer": "ipython3",
   "version": "3.6.10"
  }
 },
 "nbformat": 4,
 "nbformat_minor": 2
}
