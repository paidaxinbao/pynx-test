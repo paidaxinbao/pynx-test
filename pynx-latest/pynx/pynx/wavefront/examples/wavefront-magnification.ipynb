{
 "cells": [
  {
   "cell_type": "markdown",
   "metadata": {},
   "source": [
    "## Tests of magnified wavefront propagation\n",
    "Notes: \n",
    "- The magnification creates artifacts when enlarging the image beyond the original window, likely due to some aliasing effect\n",
    "- The amplitude seem to match (at least visually), but there are some differences visible for the phase"
   ]
  },
  {
   "cell_type": "code",
   "execution_count": null,
   "metadata": {},
   "outputs": [],
   "source": [
    "%matplotlib notebook\n",
    "import matplotlib.pyplot as plt\n",
    "import numpy as np"
   ]
  },
  {
   "cell_type": "code",
   "execution_count": null,
   "metadata": {},
   "outputs": [],
   "source": [
    "from pynx.wavefront import *\n",
    "from pynx.wavefront.cpu_operator import *  # Force using CPU operator"
   ]
  },
  {
   "cell_type": "code",
   "execution_count": null,
   "metadata": {},
   "outputs": [],
   "source": [
    "w = Wavefront(d='ascent', pixel_size=10e-9, wavelength=1.5e-10)\n",
    "#w = ImshowAbs() * RectangularMask(width=2e-6, height=2e-6) * w\n",
    "w = ImshowAbs() * CircularMask(2e-6) * w"
   ]
  },
  {
   "cell_type": "code",
   "execution_count": null,
   "metadata": {},
   "outputs": [],
   "source": [
    "m = 1.1\n",
    "w1 = ImshowAbs(fig_num=2) * MagnifyNearField(m, verbose=True) * w.copy()\n",
    "w2 = ImshowAbs(fig_num=3) * PropagateNearField(dz=w1.z, verbose=True) * w.copy()\n",
    "if False:  # To match the display extents\n",
    "    x0,x1 = plt.xlim()\n",
    "    plt.figure(2)\n",
    "    plt.xlim(x0,x1)\n",
    "    plt.ylim(x0,x1)"
   ]
  },
  {
   "cell_type": "code",
   "execution_count": null,
   "metadata": {},
   "outputs": [],
   "source": [
    "w1 = ImshowAngle(fig_num=4) * MagnifyNearField(m, verbose=True) * w.copy()\n",
    "w2 = ImshowAngle(fig_num=5) * PropagateNearField(dz=w1.z, verbose=True) * w.copy()\n",
    "if False:  # To match the display extents\n",
    "    x0,x1 = plt.xlim()\n",
    "    plt.figure(4)\n",
    "    plt.xlim(x0,x1)\n",
    "    plt.ylim(x0,x1)"
   ]
  }
 ],
 "metadata": {
  "kernelspec": {
   "display_name": "Python 3",
   "language": "python",
   "name": "python3"
  },
  "language_info": {
   "codemirror_mode": {
    "name": "ipython",
    "version": 3
   },
   "file_extension": ".py",
   "mimetype": "text/x-python",
   "name": "python",
   "nbconvert_exporter": "python",
   "pygments_lexer": "ipython3",
   "version": "3.5.5"
  }
 },
 "nbformat": 4,
 "nbformat_minor": 2
}
